{
  "nbformat": 4,
  "nbformat_minor": 0,
  "metadata": {
    "colab": {
      "name": "Assignment4_Day6.ipynb",
      "provenance": [],
      "collapsed_sections": []
    },
    "kernelspec": {
      "name": "python3",
      "display_name": "Python 3"
    }
  },
  "cells": [
    {
      "cell_type": "markdown",
      "metadata": {
        "id": "jKs4FDb9o_NH",
        "colab_type": "text"
      },
      "source": [
        "**Question No: 1**"
      ]
    },
    {
      "cell_type": "code",
      "metadata": {
        "id": "Sz7b_-3PiSpP",
        "colab_type": "code",
        "colab": {
          "base_uri": "https://localhost:8080/",
          "height": 51
        },
        "outputId": "da0fe448-bafe-444c-e4d8-f85ad581f827"
      },
      "source": [
        "#print office mail from given email address\n",
        "\n",
        "import re\n",
        "mail_address = input(\"Enter your Email address :\")\n",
        "splitted_input=re.split(r'[@.]',mail_address)\n",
        "print(f'Company name of given email address is {splitted_input[1].upper()}')\n"
      ],
      "execution_count": null,
      "outputs": [
        {
          "output_type": "stream",
          "text": [
            "Enter your Email address :sriram@teezle.com\n",
            "Company name of given email address is TEEZLE\n"
          ],
          "name": "stdout"
        }
      ]
    },
    {
      "cell_type": "markdown",
      "metadata": {
        "id": "qeEnARe8pSob",
        "colab_type": "text"
      },
      "source": [
        "**Question No: 2**"
      ]
    },
    {
      "cell_type": "code",
      "metadata": {
        "id": "uPWw_xkLjFeE",
        "colab_type": "code",
        "colab": {
          "base_uri": "https://localhost:8080/",
          "height": 51
        },
        "outputId": "f52953f8-f965-412b-bde7-bfb6483e4b33"
      },
      "source": [
        "#Get the comman seperated input and sort them alphabetically\n",
        "\n",
        "user_input = input(\"Enter the comma seperated string: \")\n",
        "\n",
        "splitted_input = user_input.split(\",\")\n",
        "\n",
        "splitted_input.sort()\n",
        "\n",
        "output = \",\".join(splitted_input)\n",
        "\n",
        "print(\"The output sorted string is \",output)"
      ],
      "execution_count": null,
      "outputs": [
        {
          "output_type": "stream",
          "text": [
            "Enter the comma seperated string: without,hello,bag,world\n",
            "The output sorted string is  bag,hello,without,world\n"
          ],
          "name": "stdout"
        }
      ]
    },
    {
      "cell_type": "markdown",
      "metadata": {
        "id": "9rL3YlxNUkRg",
        "colab_type": "text"
      },
      "source": [
        "**Question No: 3**"
      ]
    },
    {
      "cell_type": "markdown",
      "metadata": {
        "id": "ciKizbhHUr-J",
        "colab_type": "text"
      },
      "source": [
        "#Set"
      ]
    },
    {
      "cell_type": "markdown",
      "metadata": {
        "id": "zSCGhf1VU9qC",
        "colab_type": "text"
      },
      "source": [
        "Set is an collection of values which is iterable, mutable and has no duplicate.Set are written curly bracket\n",
        "\n",
        "It is unordered and unindexed,so you cannot be sure in which order the items will appear\n",
        "\n"
      ]
    },
    {
      "cell_type": "code",
      "metadata": {
        "id": "Riu-EvDAXpEP",
        "colab_type": "code",
        "colab": {
          "base_uri": "https://localhost:8080/",
          "height": 34
        },
        "outputId": "258a6b60-5fb8-4cad-d9f5-2a776e40c698"
      },
      "source": [
        "#set \n",
        "\n",
        "this_set = {\"I\",\"am\",\"student\"}\n",
        "\n",
        "print(this_set)"
      ],
      "execution_count": null,
      "outputs": [
        {
          "output_type": "stream",
          "text": [
            "{'student', 'I', 'am'}\n"
          ],
          "name": "stdout"
        }
      ]
    },
    {
      "cell_type": "code",
      "metadata": {
        "id": "Ksi__kAiaBEI",
        "colab_type": "code",
        "colab": {}
      },
      "source": [
        ""
      ],
      "execution_count": null,
      "outputs": []
    },
    {
      "cell_type": "markdown",
      "metadata": {
        "id": "GS-dYJd-fDUW",
        "colab_type": "text"
      },
      "source": [
        "**Set constructor**"
      ]
    },
    {
      "cell_type": "code",
      "metadata": {
        "id": "zLEbnnOkfCoU",
        "colab_type": "code",
        "colab": {
          "base_uri": "https://localhost:8080/",
          "height": 34
        },
        "outputId": "425177c5-b8f7-4576-9bbc-c65618338cc4"
      },
      "source": [
        "#using set constructor for make set\n",
        "\n",
        "this_set = set((\"I\",\"am\",\"student\"))\n",
        "\n",
        "type(this_set)\n",
        "\n",
        "print(this_set)"
      ],
      "execution_count": null,
      "outputs": [
        {
          "output_type": "stream",
          "text": [
            "{'student', 'I', 'am'}\n"
          ],
          "name": "stdout"
        }
      ]
    },
    {
      "cell_type": "code",
      "metadata": {
        "id": "kRGOIrVrfji5",
        "colab_type": "code",
        "colab": {}
      },
      "source": [
        ""
      ],
      "execution_count": null,
      "outputs": []
    },
    {
      "cell_type": "markdown",
      "metadata": {
        "id": "IuUsmrLaaVuj",
        "colab_type": "text"
      },
      "source": [
        "**Access set**"
      ]
    },
    {
      "cell_type": "code",
      "metadata": {
        "id": "X3-y2ngwXoe1",
        "colab_type": "code",
        "colab": {
          "base_uri": "https://localhost:8080/",
          "height": 68
        },
        "outputId": "45ec31e4-d352-4419-94a7-cd644e1dd7dd"
      },
      "source": [
        "#Access set\n",
        "\n",
        "#You cannot access set using index or key because of unindexing in nature, we can only access as iterable using for loop and in operator\n",
        "\n",
        "this_set = {\"I\",\"am\",\"student\"}\n",
        "\n",
        "for i in this_set:\n",
        "  print(i)\n"
      ],
      "execution_count": null,
      "outputs": [
        {
          "output_type": "stream",
          "text": [
            "student\n",
            "I\n",
            "am\n"
          ],
          "name": "stdout"
        }
      ]
    },
    {
      "cell_type": "code",
      "metadata": {
        "id": "IWcHvOk5Z_cX",
        "colab_type": "code",
        "colab": {}
      },
      "source": [
        ""
      ],
      "execution_count": null,
      "outputs": []
    },
    {
      "cell_type": "markdown",
      "metadata": {
        "id": "MGXDcyj6admh",
        "colab_type": "text"
      },
      "source": [
        "**change Items**"
      ]
    },
    {
      "cell_type": "markdown",
      "metadata": {
        "id": "v6nbgdacapYT",
        "colab_type": "text"
      },
      "source": [
        "\n",
        "\n",
        "> After set is created we cant change any value but we can add, remove or join with other set\n"
      ]
    },
    {
      "cell_type": "code",
      "metadata": {
        "id": "mIYhH1HTZ6_Z",
        "colab_type": "code",
        "colab": {
          "base_uri": "https://localhost:8080/",
          "height": 34
        },
        "outputId": "41d1aca2-7e98-4563-85f9-48b063c64568"
      },
      "source": [
        "#ADD values in set\n",
        "\n",
        "this_set = {\"I\",\"am\",\"student\"}\n",
        "\n",
        "this_set.add(\"AI/ML\")\n",
        "\n",
        "this_set"
      ],
      "execution_count": null,
      "outputs": [
        {
          "output_type": "execute_result",
          "data": {
            "text/plain": [
              "{'AI/ML', 'I', 'am', 'student'}"
            ]
          },
          "metadata": {
            "tags": []
          },
          "execution_count": 26
        }
      ]
    },
    {
      "cell_type": "code",
      "metadata": {
        "id": "RGJ242ymZ6mV",
        "colab_type": "code",
        "colab": {}
      },
      "source": [
        ""
      ],
      "execution_count": null,
      "outputs": []
    },
    {
      "cell_type": "markdown",
      "metadata": {
        "id": "-zMGlQeLbYOj",
        "colab_type": "text"
      },
      "source": [
        "**Add multiple values in set**"
      ]
    },
    {
      "cell_type": "code",
      "metadata": {
        "id": "3a4Fdl6kbrzD",
        "colab_type": "code",
        "colab": {
          "base_uri": "https://localhost:8080/",
          "height": 34
        },
        "outputId": "34fef46d-f11a-4b7e-a643-e26f3f810205"
      },
      "source": [
        "#Add multiple values in set\n",
        "\n",
        "this_set = {\"I\",\"am\",\"student\"}\n",
        "\n",
        "this_set.update({\"in\",\"AI/ML\",\"course\"})\n",
        "\n",
        "this_set\n"
      ],
      "execution_count": null,
      "outputs": [
        {
          "output_type": "execute_result",
          "data": {
            "text/plain": [
              "{'AI/ML', 'I', 'am', 'course', 'in', 'student'}"
            ]
          },
          "metadata": {
            "tags": []
          },
          "execution_count": 28
        }
      ]
    },
    {
      "cell_type": "code",
      "metadata": {
        "id": "Bfo-UOvRcNwk",
        "colab_type": "code",
        "colab": {}
      },
      "source": [
        ""
      ],
      "execution_count": null,
      "outputs": []
    },
    {
      "cell_type": "markdown",
      "metadata": {
        "id": "7H9Om-qycKMW",
        "colab_type": "text"
      },
      "source": [
        "###length function in set"
      ]
    },
    {
      "cell_type": "code",
      "metadata": {
        "id": "8cTtl-lCcY7u",
        "colab_type": "code",
        "colab": {
          "base_uri": "https://localhost:8080/",
          "height": 34
        },
        "outputId": "89ab3a20-e85f-400c-bad9-0360280a4489"
      },
      "source": [
        "#length function in set\n",
        "\n",
        "this_set = {\"I\",\"am\",\"student\"}\n",
        "\n",
        "print(len(this_set))"
      ],
      "execution_count": null,
      "outputs": [
        {
          "output_type": "stream",
          "text": [
            "3\n"
          ],
          "name": "stdout"
        }
      ]
    },
    {
      "cell_type": "code",
      "metadata": {
        "id": "fYBF5rubcIih",
        "colab_type": "code",
        "colab": {}
      },
      "source": [
        ""
      ],
      "execution_count": null,
      "outputs": []
    },
    {
      "cell_type": "markdown",
      "metadata": {
        "id": "B-NCkqRxcyR3",
        "colab_type": "text"
      },
      "source": [
        "**Remove values in set**\n",
        "\n",
        "\n",
        "> we can use remove,discard and pop function for removing set values\n",
        "\n"
      ]
    },
    {
      "cell_type": "code",
      "metadata": {
        "id": "PdZthbpQdMgS",
        "colab_type": "code",
        "colab": {
          "base_uri": "https://localhost:8080/",
          "height": 68
        },
        "outputId": "b03724f2-bb10-4bb1-c026-f58f0f92de50"
      },
      "source": [
        "#remove values\n",
        "\n",
        "this_set = {\"I\",\"am\",\"student\",\"in\",\"AI/ML\",\"course\"}\n",
        "\n",
        "#using remove, if values is not present it will give you error\n",
        "\n",
        "this_set.remove(\"I\")\n",
        "\n",
        "print(this_set)\n",
        "\n",
        "#using discard, if value is not present it will not shown an error\n",
        "\n",
        "this_set.discard(\"I\")\n",
        "\n",
        "print(this_set)\n",
        "\n",
        "#using pop , remove last value but keep in mind it is indexed one so it will not remove what we expect\n",
        "\n",
        "this_set.pop()\n",
        "\n",
        "print(this_set)"
      ],
      "execution_count": null,
      "outputs": [
        {
          "output_type": "stream",
          "text": [
            "{'am', 'AI/ML', 'course', 'student', 'in'}\n",
            "{'am', 'AI/ML', 'course', 'student', 'in'}\n",
            "{'AI/ML', 'course', 'student', 'in'}\n"
          ],
          "name": "stdout"
        }
      ]
    },
    {
      "cell_type": "code",
      "metadata": {
        "id": "-eg5j_jBeVOJ",
        "colab_type": "code",
        "colab": {}
      },
      "source": [
        ""
      ],
      "execution_count": null,
      "outputs": []
    },
    {
      "cell_type": "markdown",
      "metadata": {
        "id": "-Jx3BWaOeXC9",
        "colab_type": "text"
      },
      "source": [
        "**Delete Set**"
      ]
    },
    {
      "cell_type": "code",
      "metadata": {
        "id": "z0L1g-X4eV9b",
        "colab_type": "code",
        "colab": {
          "base_uri": "https://localhost:8080/",
          "height": 34
        },
        "outputId": "046cd7e1-cfc6-4c53-f297-3c84adcc1a8c"
      },
      "source": [
        "#clear set\n",
        "\n",
        "this_set = {\"I\",\"am\",\"student\",\"in\",\"AI/ML\",\"course\"}\n",
        "\n",
        "this_set.clear()\n",
        "\n",
        "print(this_set)\n",
        "\n",
        "#Note if we use delete keyword , it will delete set completely"
      ],
      "execution_count": null,
      "outputs": [
        {
          "output_type": "stream",
          "text": [
            "set()\n"
          ],
          "name": "stdout"
        }
      ]
    },
    {
      "cell_type": "code",
      "metadata": {
        "id": "MjrYJ002fCSn",
        "colab_type": "code",
        "colab": {}
      },
      "source": [
        ""
      ],
      "execution_count": null,
      "outputs": []
    },
    {
      "cell_type": "markdown",
      "metadata": {
        "id": "3uGsbyw9f1uJ",
        "colab_type": "text"
      },
      "source": [
        "**Copy set**"
      ]
    },
    {
      "cell_type": "code",
      "metadata": {
        "id": "CGhkpWJif4eX",
        "colab_type": "code",
        "colab": {
          "base_uri": "https://localhost:8080/",
          "height": 34
        },
        "outputId": "d35c3dde-950b-4030-f421-fd5ef4e5c592"
      },
      "source": [
        "#copying set to another value\n",
        "\n",
        "this_set = {\"I\",\"am\",\"student\",\"in\",\"AI/ML\",\"course\"}\n",
        "\n",
        "cpy_set = this_set.copy()\n",
        "\n",
        "print(cpy_set)"
      ],
      "execution_count": null,
      "outputs": [
        {
          "output_type": "stream",
          "text": [
            "{'student', 'am', 'AI/ML', 'I', 'course', 'in'}\n"
          ],
          "name": "stdout"
        }
      ]
    },
    {
      "cell_type": "code",
      "metadata": {
        "id": "1CIKPt4mgEor",
        "colab_type": "code",
        "colab": {}
      },
      "source": [
        ""
      ],
      "execution_count": null,
      "outputs": []
    },
    {
      "cell_type": "markdown",
      "metadata": {
        "id": "IrxVQX7-qrLv",
        "colab_type": "text"
      },
      "source": [
        "**Question No: 4**"
      ]
    },
    {
      "cell_type": "code",
      "metadata": {
        "id": "_FCkCVFLqfNa",
        "colab_type": "code",
        "colab": {
          "base_uri": "https://localhost:8080/",
          "height": 51
        },
        "outputId": "7d9d987a-074c-444f-a33b-ed86c8149794"
      },
      "source": [
        "#find missing number in 1 to n numbers list\n",
        "\n",
        "user_input = input(\"Enter the numbers with space: \")\n",
        "\n",
        "numbers = user_input.split(\" \")\n",
        "\n",
        "int_number=[]\n",
        "\n",
        "missed_number = []\n",
        "\n",
        "int_number = list(map(int,numbers))\n",
        "\n",
        "[missed_number.append(i) for i in range(1,max(int_number)) if i not in int_number]\n",
        "\n",
        "output = \" \".join(map(str,missed_number))\n",
        "\n",
        "print(\"Missing Number is \",output)\n",
        "  "
      ],
      "execution_count": null,
      "outputs": [
        {
          "output_type": "stream",
          "text": [
            "Enter the numbers with space: 1 5 8\n",
            "Missing Number is  2 3 4 6 7\n"
          ],
          "name": "stdout"
        }
      ]
    },
    {
      "cell_type": "markdown",
      "metadata": {
        "id": "NBjJyBA4vpaM",
        "colab_type": "text"
      },
      "source": [
        "**Question No : 5**"
      ]
    },
    {
      "cell_type": "code",
      "metadata": {
        "id": "_YK_lDQPsP13",
        "colab_type": "code",
        "colab": {
          "base_uri": "https://localhost:8080/",
          "height": 51
        },
        "outputId": "5f76456e-7262-4a81-c440-9bd39bec6729"
      },
      "source": [
        "#Get the input and remove deplicate\n",
        "\n",
        "user_input = input(\"Enter the numbers with space: \")\n",
        "\n",
        "numbers = user_input.split(\" \")\n",
        "\n",
        "modified = []\n",
        "\n",
        "[modified.append(i) for i in numbers if i not in modified]\n",
        "\n",
        "output = \" \".join(map(str,modified))\n",
        "\n",
        "print(\" The modified output is \",output)\n",
        "\n"
      ],
      "execution_count": null,
      "outputs": [
        {
          "output_type": "stream",
          "text": [
            "Enter the numbers with space: 22 33 44 22 34 55 55 66 \n",
            " The modified output is  22 33 44 34 55 66 \n"
          ],
          "name": "stdout"
        }
      ]
    },
    {
      "cell_type": "code",
      "metadata": {
        "id": "H8hwe9kJxWj7",
        "colab_type": "code",
        "colab": {}
      },
      "source": [
        ""
      ],
      "execution_count": null,
      "outputs": []
    },
    {
      "cell_type": "code",
      "metadata": {
        "id": "3HT0byr3xePc",
        "colab_type": "code",
        "colab": {}
      },
      "source": [
        ""
      ],
      "execution_count": null,
      "outputs": []
    }
  ]
}
