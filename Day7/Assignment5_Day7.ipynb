{
 "cells": [
  {
   "cell_type": "markdown",
   "metadata": {
    "colab_type": "text",
    "id": "eiY5Oro5gaeY"
   },
   "source": [
    "**Question No: 1**"
   ]
  },
  {
   "cell_type": "code",
   "execution_count": 1,
   "metadata": {
    "colab": {},
    "colab_type": "code",
    "id": "xlQOD1w5gpaE"
   },
   "outputs": [],
   "source": [
    "#Copy one file content to another with out build in function copy\n",
    "\n",
    "#creating one file\n",
    "\n",
    "f= open(\"text.txt\",\"w\")\n",
    "f.write(\"I am sriram \\n\")\n",
    "f.write(\"I am a student in AI/ML course \\n\")\n",
    "f.write(\"Now i am copying of files with out using build in copy function\")\n",
    "f.close()"
   ]
  },
  {
   "cell_type": "code",
   "execution_count": 2,
   "metadata": {
    "colab": {},
    "colab_type": "code",
    "id": "RtKw62rKg_Zy"
   },
   "outputs": [],
   "source": [
    "#copy that file content into another file\n",
    "\n",
    "p = open(\"copy.txt\",\"w\")\n",
    "f= open(\"text.txt\",\"r\")\n",
    "\n",
    "for lines in f:\n",
    "    p.write(lines)\n",
    "\n",
    "f.close()\n",
    "p.close()"
   ]
  },
  {
   "cell_type": "code",
   "execution_count": null,
   "metadata": {
    "colab": {},
    "colab_type": "code",
    "id": "VlYV-8eEhP7-"
   },
   "outputs": [],
   "source": []
  },
  {
   "cell_type": "markdown",
   "metadata": {
    "colab_type": "text",
    "id": "howobPn22v3w"
   },
   "source": [
    "**Question No: 2**"
   ]
  },
  {
   "cell_type": "code",
   "execution_count": 3,
   "metadata": {
    "colab": {
     "base_uri": "https://localhost:8080/",
     "height": 34
    },
    "colab_type": "code",
    "id": "0trYCkMDhHqe",
    "outputId": "88c117b5-8269-4b7b-e554-71f358b9a845"
   },
   "outputs": [
    {
     "name": "stdout",
     "output_type": "stream",
     "text": [
      "800 5\n"
     ]
    }
   ],
   "source": [
    "#Find min and max value in dict without buildin function\n",
    "\n",
    "mydict = {1:100,5:650,2:300,7:5,9:800,3:400,4:10}\n",
    "\n",
    "max_number =  mydict[next(iter(mydict))]\n",
    "min_number = mydict[next(iter(mydict))]\n",
    "\n",
    "for values in mydict.values():\n",
    "    \n",
    "    if max_number>=values:\n",
    "      pass\n",
    "    else:\n",
    "      max_number=values\n",
    "    \n",
    "    if values<= min_number:\n",
    "      min_number= values\n",
    "    else:\n",
    "      pass\n",
    "\n",
    "\n",
    "print(max_number,min_number)"
   ]
  },
  {
   "cell_type": "code",
   "execution_count": null,
   "metadata": {
    "colab": {},
    "colab_type": "code",
    "id": "tIHMAsOAioLe"
   },
   "outputs": [],
   "source": []
  }
 ],
 "metadata": {
  "colab": {
   "collapsed_sections": [],
   "name": "Assignment5_Day7.ipynb",
   "provenance": []
  },
  "kernelspec": {
   "display_name": "Python 3",
   "language": "python",
   "name": "python3"
  },
  "language_info": {
   "codemirror_mode": {
    "name": "ipython",
    "version": 3
   },
   "file_extension": ".py",
   "mimetype": "text/x-python",
   "name": "python",
   "nbconvert_exporter": "python",
   "pygments_lexer": "ipython3",
   "version": "3.8.3"
  }
 },
 "nbformat": 4,
 "nbformat_minor": 1
}
