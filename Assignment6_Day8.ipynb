{
 "cells": [
  {
   "cell_type": "markdown",
   "metadata": {
    "colab_type": "text",
    "id": "8vsUnlEfm-xH"
   },
   "source": [
    "**Question No:1**"
   ]
  },
  {
   "cell_type": "markdown",
   "metadata": {
    "colab_type": "text",
    "id": "ipaxR43znLGO"
   },
   "source": [
    "###Recreate NB Map,Filter,lambda,reduce"
   ]
  },
  {
   "cell_type": "code",
   "execution_count": 1,
   "metadata": {
    "colab": {
     "base_uri": "https://localhost:8080/",
     "height": 34
    },
    "colab_type": "code",
    "id": "a0h_aQ_enKiE",
    "outputId": "c61859ac-ec9d-4a2e-9c8c-5a83726aff5d"
   },
   "outputs": [
    {
     "name": "stdout",
     "output_type": "stream",
     "text": [
      "[4, 9, 16, 25]\n"
     ]
    }
   ],
   "source": [
    "#square using lambda,filter,map\n",
    "\n",
    "\n",
    "squared_value = map(lambda x : x*x, filter(lambda x: x>=2,[1,2,3,4,5]))\n",
    "print(list(squared_value))"
   ]
  },
  {
   "cell_type": "code",
   "execution_count": 2,
   "metadata": {
    "colab": {
     "base_uri": "https://localhost:8080/",
     "height": 34
    },
    "colab_type": "code",
    "id": "SORBpkeji81f",
    "outputId": "6e68fa82-b2f7-45fc-fe61-1e87bfe5dc35"
   },
   "outputs": [
    {
     "name": "stdout",
     "output_type": "stream",
     "text": [
      "Sum of square of the values is  54\n"
     ]
    }
   ],
   "source": [
    "#sum of square of the values using reduce,lambda,filter, map\n",
    "\n",
    "from functools import reduce\n",
    "\n",
    "sum_value = reduce(lambda x,y : x+y,map(lambda x : x*x, filter(lambda x: x>=2,[1,2,3,4,5])))\n",
    "print(\"Sum of square of the values is \",sum_value)\n"
   ]
  },
  {
   "cell_type": "code",
   "execution_count": 3,
   "metadata": {
    "colab": {
     "base_uri": "https://localhost:8080/",
     "height": 34
    },
    "colab_type": "code",
    "id": "azk6ky0wqzzh",
    "outputId": "dcfdb120-8112-49c5-88a2-44363b8d6610"
   },
   "outputs": [
    {
     "name": "stdout",
     "output_type": "stream",
     "text": [
      "[9, 16, 25]\n"
     ]
    }
   ],
   "source": [
    "#multiplication of values using map and filter\n",
    "\n",
    "mul_value = map(lambda x,y : x*y , filter(lambda x:x>2 ,[1,2,3,4,5]),[3,4,5])\n",
    "\n",
    "print(list(mul_value))"
   ]
  },
  {
   "cell_type": "code",
   "execution_count": 4,
   "metadata": {
    "colab": {
     "base_uri": "https://localhost:8080/",
     "height": 34
    },
    "colab_type": "code",
    "id": "BWOG2Mkf2Zuh",
    "outputId": "96999760-baac-4449-f1d1-1713dc514219"
   },
   "outputs": [
    {
     "name": "stdout",
     "output_type": "stream",
     "text": [
      "576\n"
     ]
    }
   ],
   "source": [
    "#multiplication of values using map,reduce, lambda,filter\n",
    "\n",
    "whole_mul = reduce(lambda x,y : x*y ,filter(lambda x: x>2 , map(lambda x : x*x , filter(lambda x: x>=0,range(0,5)))))\n",
    "print(whole_mul)"
   ]
  },
  {
   "cell_type": "code",
   "execution_count": 5,
   "metadata": {
    "colab": {
     "base_uri": "https://localhost:8080/",
     "height": 34
    },
    "colab_type": "code",
    "id": "erd65EZD6IhG",
    "outputId": "f3f067f2-8555-41d0-dac0-aaa7216de24d"
   },
   "outputs": [
    {
     "name": "stdout",
     "output_type": "stream",
     "text": [
      "62784\n"
     ]
    }
   ],
   "source": [
    "#map along with filter,lambda\n",
    "\n",
    "s = filter(lambda x : x>10,map(lambda x : x**3 , range(1,30,3)))\n",
    "\n",
    "\n",
    "# using reduce\n",
    "\n",
    "\n",
    "value1 = reduce(lambda x,y : x+y,list(s))\n",
    "print(value1)\n",
    "\n"
   ]
  },
  {
   "cell_type": "code",
   "execution_count": 5,
   "metadata": {
    "colab": {},
    "colab_type": "code",
    "id": "t0WqircE6fGQ"
   },
   "outputs": [],
   "source": []
  },
  {
   "cell_type": "code",
   "execution_count": 5,
   "metadata": {
    "colab": {},
    "colab_type": "code",
    "id": "Dy3yJO7OAUoj"
   },
   "outputs": [],
   "source": []
  },
  {
   "cell_type": "markdown",
   "metadata": {
    "colab_type": "text",
    "id": "Lb_gVNcnAiCJ"
   },
   "source": [
    "# **Python Class and Object**\n"
   ]
  },
  {
   "cell_type": "markdown",
   "metadata": {
    "colab_type": "text",
    "id": "gaSA9u22LULv"
   },
   "source": [
    "\n",
    "> Python is an object oriented programming language\n",
    "\n",
    "\n",
    "\n",
    "> Almost everything in Python is an object, with its properties and methods.\n",
    "\n",
    "\n",
    "> A Class is like an object constructor, or a \"blueprint\" for creating objects.\n",
    "\n",
    "\n",
    "> Object is anything in the real world that has some unique characteristics.It has state and behavior. eg: Mouse, keyboard, chair, table, etc\n",
    "\n",
    "\n",
    "\n",
    "\n",
    "\n",
    "\n",
    "\n",
    "\n",
    "\n",
    "\n"
   ]
  },
  {
   "cell_type": "markdown",
   "metadata": {
    "colab_type": "text",
    "id": "lf-85hLHN9Zu"
   },
   "source": [
    "####**CLASS**\n",
    "\n",
    "\n",
    "\n",
    "> Class is an user defined prototype for an object that has specific attributes and methods accesible via dot notation\n",
    "\n",
    "###**Object**\n",
    "\n",
    "\n",
    "> An unique instance that is defined by its class,comprises both  attributes and methods\n",
    "\n",
    "\n",
    "\n"
   ]
  },
  {
   "cell_type": "markdown",
   "metadata": {
    "colab_type": "text",
    "id": "PVMvLBRfY0lX"
   },
   "source": [
    "####**creating class**\n",
    "\n",
    "**syntax**\n",
    "\n",
    "\n",
    "\n",
    "```\n",
    "class class_name:\n",
    "  statement1\n",
    "  statement2\n",
    "  statement3\n",
    "```\n",
    "\n",
    "\n",
    "\n"
   ]
  },
  {
   "cell_type": "code",
   "execution_count": 6,
   "metadata": {
    "colab": {},
    "colab_type": "code",
    "id": "-CbatXHjAU-8"
   },
   "outputs": [],
   "source": [
    "#creating class\n",
    "\n",
    "class abc:\n",
    "  def __init__(self):\n",
    "    print(\"Welcome sriram\")\n",
    "  def prnt(self):\n",
    "    print(\"First class function in python\")\n"
   ]
  },
  {
   "cell_type": "markdown",
   "metadata": {
    "colab_type": "text",
    "id": "6lCCOfZIdC-x"
   },
   "source": [
    "**__init__()**\n",
    "\n",
    "\n",
    "> It is the first method which is for constructor method/initializing the class,that python calls whenever you create new instance for the class\n",
    "\n",
    "**self**\n",
    "\n",
    "\n",
    "> The first argument of every class method is always a reference to the current instance of the class.\n",
    "\n",
    "\n",
    "\n",
    "\n",
    "\n",
    "    "
   ]
  },
  {
   "cell_type": "markdown",
   "metadata": {
    "colab_type": "text",
    "id": "0wAPTAfofN5J"
   },
   "source": [
    "\n",
    "**Create instance**\n",
    "\n",
    "> To create instance of the class, call the classname with passing the arguments whatever __init__() accepts\n",
    "\n"
   ]
  },
  {
   "cell_type": "code",
   "execution_count": 7,
   "metadata": {
    "colab": {
     "base_uri": "https://localhost:8080/",
     "height": 34
    },
    "colab_type": "code",
    "id": "zYbEoi5RAVJ4",
    "outputId": "14077dcb-f21e-4827-bf49-ae53d59ef05c"
   },
   "outputs": [
    {
     "name": "stdout",
     "output_type": "stream",
     "text": [
      "Welcome sriram\n"
     ]
    }
   ],
   "source": [
    "#creating instance\n",
    "\n",
    "s = abc()"
   ]
  },
  {
   "cell_type": "markdown",
   "metadata": {
    "colab_type": "text",
    "id": "-agdk4cYf0Z0"
   },
   "source": [
    "**Accessing attributes and Methods**"
   ]
  },
  {
   "cell_type": "code",
   "execution_count": 8,
   "metadata": {
    "colab": {
     "base_uri": "https://localhost:8080/",
     "height": 34
    },
    "colab_type": "code",
    "id": "JzwyTINXfFq9",
    "outputId": "f147bc96-7bce-4a8d-e30e-514807b49198"
   },
   "outputs": [
    {
     "name": "stdout",
     "output_type": "stream",
     "text": [
      "First class function in python\n"
     ]
    }
   ],
   "source": [
    "#access using dot notation\n",
    "\n",
    "s.prnt()"
   ]
  },
  {
   "cell_type": "code",
   "execution_count": 8,
   "metadata": {
    "colab": {},
    "colab_type": "code",
    "id": "fI97CsWwgIfZ"
   },
   "outputs": [],
   "source": []
  },
  {
   "cell_type": "code",
   "execution_count": 9,
   "metadata": {
    "colab": {
     "base_uri": "https://localhost:8080/",
     "height": 68
    },
    "colab_type": "code",
    "id": "BC5q2MVggD1m",
    "outputId": "736f1782-126c-4e18-890b-8790c94c4f8d"
   },
   "outputs": [
    {
     "name": "stdout",
     "output_type": "stream",
     "text": [
      "the name is  sriram karthi\n",
      "10\n",
      "the name is  palli kondan\n"
     ]
    }
   ],
   "source": [
    "#create class and object and access the methods and atttributes\n",
    "\n",
    "class example:\n",
    "  val1=10\n",
    "  def __init__(self,name,name1):\n",
    "    self.name = name\n",
    "    self.name1 = name1\n",
    "  def pnt(self):\n",
    "    print(\"the name is \",self.name,self.name1)\n",
    "\n",
    "x = example(\"sriram\",\"karthi\")\n",
    "\n",
    "y = example(\"palli\",\"kondan\")\n",
    "\n",
    "x.pnt()\n",
    "\n",
    "print(x.val1)\n",
    "\n",
    "y.pnt()"
   ]
  },
  {
   "cell_type": "code",
   "execution_count": 9,
   "metadata": {
    "colab": {},
    "colab_type": "code",
    "id": "Na79S8WJgvhF"
   },
   "outputs": [],
   "source": []
  },
  {
   "cell_type": "markdown",
   "metadata": {
    "colab_type": "text",
    "id": "lsT4soeviaUy"
   },
   "source": [
    "we can also use getattr() method for get the value of the attributes\n",
    "\n",
    "**syntax**\n",
    "\n",
    "\n",
    "\n",
    "```\n",
    "getattr(obj, name)\n",
    "```\n",
    "\n"
   ]
  },
  {
   "cell_type": "code",
   "execution_count": 10,
   "metadata": {
    "colab": {
     "base_uri": "https://localhost:8080/",
     "height": 34
    },
    "colab_type": "code",
    "id": "3LeRWxt3jH47",
    "outputId": "4dcb54c7-5266-4842-d50f-4af870bade52"
   },
   "outputs": [
    {
     "data": {
      "text/plain": [
       "10"
      ]
     },
     "execution_count": 10,
     "metadata": {
      "tags": []
     },
     "output_type": "execute_result"
    }
   ],
   "source": [
    "#Get attribute\n",
    "\n",
    "getattr(x,\"val1\")\n"
   ]
  },
  {
   "cell_type": "markdown",
   "metadata": {
    "colab_type": "text",
    "id": "XPd3Ek86kHTE"
   },
   "source": [
    "we can also craete new attributes using setattr() method\n",
    "\n",
    "**syntax**\n",
    "\n",
    "\n",
    "```\n",
    "setattr(obj,name,value)\n",
    "```\n",
    "\n"
   ]
  },
  {
   "cell_type": "code",
   "execution_count": 11,
   "metadata": {
    "colab": {},
    "colab_type": "code",
    "id": "JVNz-FVDj7hv"
   },
   "outputs": [],
   "source": [
    "#Set attribute\n",
    "\n",
    "setattr(y,'age',23)"
   ]
  },
  {
   "cell_type": "code",
   "execution_count": 12,
   "metadata": {
    "colab": {
     "base_uri": "https://localhost:8080/",
     "height": 34
    },
    "colab_type": "code",
    "id": "RIx5rbEGkrqF",
    "outputId": "c9bd2bef-e4c7-4c5a-acf4-583da2dd1291"
   },
   "outputs": [
    {
     "data": {
      "text/plain": [
       "23"
      ]
     },
     "execution_count": 12,
     "metadata": {
      "tags": []
     },
     "output_type": "execute_result"
    }
   ],
   "source": [
    "getattr(y,'age')"
   ]
  },
  {
   "cell_type": "code",
   "execution_count": 12,
   "metadata": {
    "colab": {},
    "colab_type": "code",
    "id": "UT8VoyTxmTnE"
   },
   "outputs": [],
   "source": []
  },
  {
   "cell_type": "markdown",
   "metadata": {
    "colab_type": "text",
    "id": "l-kbxpJ0mWkj"
   },
   "source": [
    "###Build in Class attributes\n",
    "\n",
    "\n",
    "\n",
    "> __dict__: return the class's namespaces\n",
    "\n",
    "\n",
    "\n",
    "> __name__ : return the classname\n",
    "\n",
    "\n",
    "> __doc__ : return any class documemt string present otherwise it return undefined\n",
    "\n",
    "\n",
    "\n",
    "\n",
    "\n"
   ]
  },
  {
   "cell_type": "code",
   "execution_count": 13,
   "metadata": {
    "colab": {
     "base_uri": "https://localhost:8080/",
     "height": 35
    },
    "colab_type": "code",
    "id": "636JIH08mPI5",
    "outputId": "d2c11bf2-1f97-4f18-c777-4bd85c2edf34"
   },
   "outputs": [
    {
     "data": {
      "application/vnd.google.colaboratory.intrinsic+json": {
       "type": "string"
      },
      "text/plain": [
       "'example'"
      ]
     },
     "execution_count": 13,
     "metadata": {
      "tags": []
     },
     "output_type": "execute_result"
    }
   ],
   "source": [
    "example.__name__"
   ]
  },
  {
   "cell_type": "code",
   "execution_count": 14,
   "metadata": {
    "colab": {
     "base_uri": "https://localhost:8080/",
     "height": 136
    },
    "colab_type": "code",
    "id": "n0mqfFHEkvoW",
    "outputId": "da870578-2237-4442-fb1c-6f7ee543ec0e"
   },
   "outputs": [
    {
     "data": {
      "text/plain": [
       "mappingproxy({'__dict__': <attribute '__dict__' of 'example' objects>,\n",
       "              '__doc__': None,\n",
       "              '__init__': <function __main__.example.__init__>,\n",
       "              '__module__': '__main__',\n",
       "              '__weakref__': <attribute '__weakref__' of 'example' objects>,\n",
       "              'pnt': <function __main__.example.pnt>,\n",
       "              'val1': 10})"
      ]
     },
     "execution_count": 14,
     "metadata": {
      "tags": []
     },
     "output_type": "execute_result"
    }
   ],
   "source": [
    "example.__dict__"
   ]
  },
  {
   "cell_type": "code",
   "execution_count": 15,
   "metadata": {
    "colab": {
     "base_uri": "https://localhost:8080/",
     "height": 34
    },
    "colab_type": "code",
    "id": "ZgoMXgHal-nQ",
    "outputId": "9bc19bae-1f9f-4e08-c3b8-b5d7fa5d2a6f"
   },
   "outputs": [
    {
     "data": {
      "text/plain": [
       "{'age': 23, 'name': 'palli', 'name1': 'kondan'}"
      ]
     },
     "execution_count": 15,
     "metadata": {
      "tags": []
     },
     "output_type": "execute_result"
    }
   ],
   "source": [
    "y.__dict__"
   ]
  },
  {
   "cell_type": "code",
   "execution_count": 15,
   "metadata": {
    "colab": {},
    "colab_type": "code",
    "id": "FiABkXSomDuu"
   },
   "outputs": [],
   "source": []
  },
  {
   "cell_type": "markdown",
   "metadata": {
    "colab_type": "text",
    "id": "LTURkLe3n4s2"
   },
   "source": [
    "###**Instances a return values**\n",
    "\n",
    "> In Python, methods and functions can return class instances.\n",
    "\n"
   ]
  },
  {
   "cell_type": "code",
   "execution_count": 16,
   "metadata": {
    "colab": {
     "base_uri": "https://localhost:8080/",
     "height": 34
    },
    "colab_type": "code",
    "id": "x1YSqLW6nwxX",
    "outputId": "e9ae0718-84e8-4e08-8f4e-5b4c76a27432"
   },
   "outputs": [
    {
     "data": {
      "text/plain": [
       "12"
      ]
     },
     "execution_count": 16,
     "metadata": {
      "tags": []
     },
     "output_type": "execute_result"
    }
   ],
   "source": [
    "class st:\n",
    "    def add(self,a,b):\n",
    "        self.a=a\n",
    "        self.b=b\n",
    "        return self.a*self.b\n",
    "\n",
    "s=st()\n",
    "s.add(4,3)"
   ]
  },
  {
   "cell_type": "markdown",
   "metadata": {
    "colab_type": "text",
    "id": "dW2WpJmRsebk"
   },
   "source": [
    "#**Destroying Object**\n",
    "\n",
    "Syntax\n",
    "\n",
    "```\n",
    "__del__() \n",
    "```\n",
    "__del__() method is a known as a destructor method in Python. It is called when all references to the object have been deleted i.e when an object is garbage collected.\n",
    "\n",
    "A reference to objects is also deleted when the object goes out of reference or when the program ends.\n",
    "\n"
   ]
  },
  {
   "cell_type": "code",
   "execution_count": 17,
   "metadata": {
    "colab": {
     "base_uri": "https://localhost:8080/",
     "height": 34
    },
    "colab_type": "code",
    "id": "hdtXpgpRoYva",
    "outputId": "1ee82480-fede-470d-bc26-aff8976bbe90"
   },
   "outputs": [
    {
     "name": "stdout",
     "output_type": "stream",
     "text": [
      "Employee created.\n"
     ]
    }
   ],
   "source": [
    "# Program to delete object of a class.\n",
    "class Employee: \n",
    "  \n",
    "    # Initializing \n",
    "    def __init__(self): \n",
    "        print('Employee created.') \n",
    "  \n",
    "    # Deleting (Calling destructor) \n",
    "    def __del__(self): \n",
    "        print('Destructor called, Employee deleted.') \n",
    "  \n",
    "obj = Employee()  "
   ]
  },
  {
   "cell_type": "code",
   "execution_count": 17,
   "metadata": {
    "colab": {},
    "colab_type": "code",
    "id": "O-wFVvRuqttA"
   },
   "outputs": [],
   "source": []
  },
  {
   "cell_type": "markdown",
   "metadata": {
    "colab_type": "text",
    "id": "mjlYzbdftyip"
   },
   "source": [
    "#**Inheritance**\n",
    "\n",
    "\n",
    "\n",
    "> We can create a class without from scratch,but also deriving it from the pre existing class called inheritance.\n",
    "\n",
    "\n",
    "> Child class can access all the attributes and methods of parent class.It can also override the value of the attribute and methods of parent class\n",
    "\n",
    "\n",
    "\n"
   ]
  },
  {
   "cell_type": "code",
   "execution_count": 18,
   "metadata": {
    "colab": {
     "base_uri": "https://localhost:8080/",
     "height": 51
    },
    "colab_type": "code",
    "id": "lS5JFivyw5eC",
    "outputId": "506b06fb-9d39-443f-ad30-07bfc06d5bc1"
   },
   "outputs": [
    {
     "name": "stdout",
     "output_type": "stream",
     "text": [
      "5\n",
      "15\n"
     ]
    }
   ],
   "source": [
    "#Inheritance\n",
    "\n",
    "#parent class\n",
    "class addition:\n",
    "  def __init__(self,val1,val2): #parent constructor\n",
    "    self.val1 = val1\n",
    "    self.val2 = val2\n",
    "  def add(self): #parent method\n",
    "    c = self.val1+self.val2\n",
    "    return c\n",
    "\n",
    "class subtract(addition):  #define child class\n",
    "  def sub(self):\n",
    "    d= self.val1 - self.val2\n",
    "    return d\n",
    "\n",
    "\n",
    "x = subtract(10,5) #instance of child class\n",
    "\n",
    "print(x.sub()) #calling child class method \n",
    "\n",
    "print(x.add()) #calling parent class method\n"
   ]
  },
  {
   "cell_type": "code",
   "execution_count": 18,
   "metadata": {
    "colab": {},
    "colab_type": "code",
    "id": "27DIvomuy2lR"
   },
   "outputs": [],
   "source": []
  },
  {
   "cell_type": "markdown",
   "metadata": {
    "colab_type": "text",
    "id": "_XhKsvdFzPX-"
   },
   "source": [
    "###**Overiding Methods**"
   ]
  },
  {
   "cell_type": "markdown",
   "metadata": {
    "colab_type": "text",
    "id": "8ivXWk2nzbuu"
   },
   "source": [
    "\n",
    "\n",
    "> You can also override your parent class method called overriding\n",
    "\n"
   ]
  },
  {
   "cell_type": "code",
   "execution_count": 19,
   "metadata": {
    "colab": {
     "base_uri": "https://localhost:8080/",
     "height": 34
    },
    "colab_type": "code",
    "id": "uaSTl5wfzaX9",
    "outputId": "0d35ca23-e9bb-4d93-b5d7-8e6097277022"
   },
   "outputs": [
    {
     "name": "stdout",
     "output_type": "stream",
     "text": [
      "i am in child class with parent method\n"
     ]
    }
   ],
   "source": [
    "#override parent class\n",
    "\n",
    "class parent:\n",
    "  def parent_method(self):\n",
    "    print(\"i am in parent method\")\n",
    "class child(parent):\n",
    "  def parent_method(self):\n",
    "    print(\"i am in child class with parent method\")\n",
    "\n",
    "xyz = child()\n",
    "\n",
    "xyz.parent_method()"
   ]
  },
  {
   "cell_type": "code",
   "execution_count": 19,
   "metadata": {
    "colab": {},
    "colab_type": "code",
    "id": "W1Vd0gplJMYp"
   },
   "outputs": [],
   "source": []
  },
  {
   "cell_type": "markdown",
   "metadata": {
    "colab_type": "text",
    "id": "CsxfWJWGJg48"
   },
   "source": [
    "###**Operator overloading**\n",
    "\n",
    "\n",
    "\n",
    "> Operator Overloading means giving extended meaning beyond their predefined operational meaning with the help of python's magic functions\n",
    "\n"
   ]
  },
  {
   "cell_type": "code",
   "execution_count": 20,
   "metadata": {
    "colab": {
     "base_uri": "https://localhost:8080/",
     "height": 34
    },
    "colab_type": "code",
    "id": "EoLg88ulLF2S",
    "outputId": "ed24433a-ae02-4a30-dcdd-87a01ff9b309"
   },
   "outputs": [
    {
     "name": "stdout",
     "output_type": "stream",
     "text": [
      "15\n"
     ]
    }
   ],
   "source": [
    "#Operator overloading\n",
    "\n",
    "class a:\n",
    "  def __init__(self,a):\n",
    "    self.a = a\n",
    "  #def add(self,other):   #This two lines gives an error because compiler does not know to add two object\n",
    "   # return self.a+other.a\n",
    "\n",
    "  def __add__(self,other):  # The above problem will be cured with the help of magic functions in python\n",
    "    return self.a + other.a \n",
    "\n",
    "\n",
    "obj1 = a(5)\n",
    "obj2 = a(10)\n",
    "\n",
    "obj3=obj1+obj2\n",
    "\n",
    "print(obj3)"
   ]
  },
  {
   "cell_type": "code",
   "execution_count": 20,
   "metadata": {
    "colab": {},
    "colab_type": "code",
    "id": "AI5xiNr9MDty"
   },
   "outputs": [],
   "source": []
  },
  {
   "cell_type": "markdown",
   "metadata": {
    "colab_type": "text",
    "id": "Ytf85uG5M1BH"
   },
   "source": [
    "#**Data Abstraction**\n",
    "\n",
    "\n",
    "\n",
    "> An object's attributes may or may not be visible outside the class definition called Data Abstraction\n",
    "\n"
   ]
  },
  {
   "cell_type": "code",
   "execution_count": 21,
   "metadata": {
    "colab": {
     "base_uri": "https://localhost:8080/",
     "height": 68
    },
    "colab_type": "code",
    "id": "eeNI2AmLNsza",
    "outputId": "a2e75667-fd32-4035-9611-e6dc47d4c0d0"
   },
   "outputs": [
    {
     "name": "stdout",
     "output_type": "stream",
     "text": [
      "1\n",
      "2\n",
      "3\n"
     ]
    }
   ],
   "source": [
    "#Data hiding \n",
    "\n",
    "class abc:\n",
    "    __p=0\n",
    "    def show(self):\n",
    "        self.__p=self.__p+1\n",
    "        print(self.__p)\n",
    "\n",
    "v=abc()\n",
    "v.show()\n",
    "v.show()\n",
    "v.show()\n",
    "#print(v.__p)  It gives an error "
   ]
  },
  {
   "cell_type": "code",
   "execution_count": 21,
   "metadata": {
    "colab": {},
    "colab_type": "code",
    "id": "bnUcPhrHPFTY"
   },
   "outputs": [],
   "source": []
  },
  {
   "cell_type": "markdown",
   "metadata": {
    "colab_type": "text",
    "id": "Upy7PZViPZC5"
   },
   "source": [
    "#**Data Encapsulation**\n",
    "\n",
    "\n",
    "> It is used to restrict access to methods and variables.\n",
    "\n"
   ]
  },
  {
   "cell_type": "code",
   "execution_count": 22,
   "metadata": {
    "colab": {
     "base_uri": "https://localhost:8080/",
     "height": 51
    },
    "colab_type": "code",
    "id": "BH87KktyPo4Z",
    "outputId": "a81b72c1-4d15-44c4-9aac-e64bfd83cde5"
   },
   "outputs": [
    {
     "name": "stdout",
     "output_type": "stream",
     "text": [
      "Welcome \n",
      "Sriram\n"
     ]
    }
   ],
   "source": [
    "#Data Encapsulation\n",
    "\n",
    "class st:\n",
    "    def __init__(self):\n",
    "        self.__show1()\n",
    "    def show(self):\n",
    "        print(\"Sriram\")\n",
    "    def __show1(self):\n",
    "        print(\"Welcome \")\n",
    "        \n",
    "v=st()\n",
    "v.show()\n",
    "# v.__show1() not accessible from object v bcz of private method"
   ]
  },
  {
   "cell_type": "code",
   "execution_count": 22,
   "metadata": {
    "colab": {},
    "colab_type": "code",
    "id": "s5o9IGaYPziN"
   },
   "outputs": [],
   "source": []
  },
  {
   "cell_type": "markdown",
   "metadata": {
    "colab_type": "text",
    "id": "YgLd9TwFyE3v"
   },
   "source": [
    "###**Polymorphism**"
   ]
  },
  {
   "cell_type": "markdown",
   "metadata": {
    "colab_type": "text",
    "id": "HNFnJWDdyS8i"
   },
   "source": [
    "\n",
    "\n",
    "> Polymorphism means same function having many forms,i.e it can be uses for different types\n",
    "\n"
   ]
  },
  {
   "cell_type": "code",
   "execution_count": 23,
   "metadata": {
    "colab": {
     "base_uri": "https://localhost:8080/",
     "height": 68
    },
    "colab_type": "code",
    "id": "hR-xW5FWyHwz",
    "outputId": "eba14410-228e-4ee1-9f34-459b6cf2c408"
   },
   "outputs": [
    {
     "name": "stdout",
     "output_type": "stream",
     "text": [
      "3\n",
      "Hellosriram\n",
      "Helloworld\n"
     ]
    }
   ],
   "source": [
    "#Polymorphism in user-defined function\n",
    "\n",
    "def add(x,y=\"world\"):\n",
    "  return x+y\n",
    "print(add(1,2)) #add function add two numbers\n",
    "print(add(\"Hello\",\"sriram\")) #add function concatenate two strings\n",
    "print(add(\"Hello\"))  #add function concatenate given string to the default value\n"
   ]
  },
  {
   "cell_type": "code",
   "execution_count": 23,
   "metadata": {
    "colab": {},
    "colab_type": "code",
    "id": "GRXKgMo7z7W3"
   },
   "outputs": [],
   "source": []
  }
 ],
 "metadata": {
  "colab": {
   "name": "Assignment6_Day8.ipynb",
   "provenance": []
  },
  "kernelspec": {
   "display_name": "Python 3",
   "language": "python",
   "name": "python3"
  },
  "language_info": {
   "codemirror_mode": {
    "name": "ipython",
    "version": 3
   },
   "file_extension": ".py",
   "mimetype": "text/x-python",
   "name": "python",
   "nbconvert_exporter": "python",
   "pygments_lexer": "ipython3",
   "version": "3.8.3"
  }
 },
 "nbformat": 4,
 "nbformat_minor": 1
}
