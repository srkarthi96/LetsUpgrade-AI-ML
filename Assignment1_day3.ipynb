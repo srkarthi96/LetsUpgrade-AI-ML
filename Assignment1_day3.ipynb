{
  "nbformat": 4,
  "nbformat_minor": 0,
  "metadata": {
    "colab": {
      "name": "Assignment1_day3.ipynb",
      "provenance": [],
      "collapsed_sections": []
    },
    "kernelspec": {
      "name": "python3",
      "display_name": "Python 3"
    }
  },
  "cells": [
    {
      "cell_type": "markdown",
      "metadata": {
        "id": "5d-uAdEOBuCu",
        "colab_type": "text"
      },
      "source": [
        "**Question No:1**"
      ]
    },
    {
      "cell_type": "code",
      "metadata": {
        "id": "XLT-upB3zAe3",
        "colab_type": "code",
        "colab": {
          "base_uri": "https://localhost:8080/",
          "height": 34
        },
        "outputId": "359eb9da-201c-4511-d79a-2e2543f15ef2"
      },
      "source": [
        "#Subtraction of Two Complex Number\n",
        "a = 1 + 2j\n",
        "b= 2 + 3j\n",
        "c = a +b\n",
        "print(\"The subtraction of Two complex \",a,\" and \",b,\" is \",c)"
      ],
      "execution_count": 3,
      "outputs": [
        {
          "output_type": "stream",
          "text": [
            "The subtraction of Two complex  (1+2j)  and  (2+3j)  is  (3+5j)\n"
          ],
          "name": "stdout"
        }
      ]
    },
    {
      "cell_type": "markdown",
      "metadata": {
        "id": "qrCMIKK9CeOh",
        "colab_type": "text"
      },
      "source": [
        "**Question No:2**"
      ]
    },
    {
      "cell_type": "code",
      "metadata": {
        "id": "BIUSGhTIzie_",
        "colab_type": "code",
        "colab": {
          "base_uri": "https://localhost:8080/",
          "height": 51
        },
        "outputId": "9e5b87dc-ca45-4e95-cda9-e05f58633a9f"
      },
      "source": [
        "#fourth route of a number\n",
        "n = int(input(\"enter the value of n \"))\n",
        "print(\"The fourth square root of the number \",n,\" is \",n**0.25)"
      ],
      "execution_count": 8,
      "outputs": [
        {
          "output_type": "stream",
          "text": [
            "enter the value of n 8\n",
            "The fourth square root of the number  8  is  1.681792830507429\n"
          ],
          "name": "stdout"
        }
      ]
    },
    {
      "cell_type": "markdown",
      "metadata": {
        "id": "wU6qKJ3JDeK0",
        "colab_type": "text"
      },
      "source": [
        "**Question No:3**"
      ]
    },
    {
      "cell_type": "code",
      "metadata": {
        "id": "hHPCWZIT0_Kr",
        "colab_type": "code",
        "colab": {
          "base_uri": "https://localhost:8080/",
          "height": 85
        },
        "outputId": "2fac9115-a7cc-43f8-d1bf-5ae018a58280"
      },
      "source": [
        "#swaping of two number with third variable\n",
        "def swaping():\n",
        "  a= int(input('enter the first value you want to swap '))\n",
        "  b= int(input('enter the second value you want to swap '))\n",
        "  print(f'the values before swaping {a} and {b}')\n",
        "  c=a\n",
        "  a=b\n",
        "  b=c\n",
        "  print(f'the values after swaping {a} and {b}')\n",
        "swaping()"
      ],
      "execution_count": 11,
      "outputs": [
        {
          "output_type": "stream",
          "text": [
            "enter the first value you want to swap 10\n",
            "enter the second value you want to swap 20\n",
            "the values before swaping 10 and 20\n",
            "the values after swaping 20 and 10\n"
          ],
          "name": "stdout"
        }
      ]
    },
    {
      "cell_type": "markdown",
      "metadata": {
        "id": "m7Ae2Zr9EI13",
        "colab_type": "text"
      },
      "source": [
        "**Question No:4**"
      ]
    },
    {
      "cell_type": "code",
      "metadata": {
        "id": "8TKDY2Hx278e",
        "colab_type": "code",
        "colab": {
          "base_uri": "https://localhost:8080/",
          "height": 85
        },
        "outputId": "7e35c3a9-854b-4234-eacf-0071f0876ca3"
      },
      "source": [
        "#swaping of Two Number with out temporary variable\n",
        "\n",
        "def swaping_without_c():\n",
        "  a= int(input('enter the first value you want to swap '))\n",
        "  b= int(input('enter the second value you want to swap '))\n",
        "  print(f'the values before swaping {a} and {b}')\n",
        "  a= a+b\n",
        "  b= a-b\n",
        "  a= a-b\n",
        "  print(f'the values after swaping {a} and {b}')\n",
        "swaping_without_c()\n"
      ],
      "execution_count": 14,
      "outputs": [
        {
          "output_type": "stream",
          "text": [
            "enter the first value you want to swap 2\n",
            "enter the second value you want to swap 4\n",
            "the values before swaping 2 and 4\n",
            "the values after swaping 4 and 2\n"
          ],
          "name": "stdout"
        }
      ]
    },
    {
      "cell_type": "markdown",
      "metadata": {
        "id": "dEOVy73GEZt4",
        "colab_type": "text"
      },
      "source": [
        "**Question No:5**"
      ]
    },
    {
      "cell_type": "code",
      "metadata": {
        "id": "hmW-JVnz4BG6",
        "colab_type": "code",
        "colab": {
          "base_uri": "https://localhost:8080/",
          "height": 51
        },
        "outputId": "991dd620-7b98-4b12-cf9e-11f690342df9"
      },
      "source": [
        "#Convert farenheit to kelvin and celsius\n",
        "\n",
        "farenheit = float(input('Enter the value in farenheit '))\n",
        "kelvin = (farenheit-32)*5/9+273.15\n",
        "celsius = (farenheit-32)*5/9\n",
        "print(f'The kelvin and celcius value for given farenheit is {kelvin}  and {celsius}')  "
      ],
      "execution_count": 16,
      "outputs": [
        {
          "output_type": "stream",
          "text": [
            "Enter the value in farenheit 60.7\n",
            "The kelvin and celcius value for given farenheit is 289.09444444444443  and 15.944444444444445\n"
          ],
          "name": "stdout"
        }
      ]
    },
    {
      "cell_type": "code",
      "metadata": {
        "id": "4nB6sPRa8TqZ",
        "colab_type": "code",
        "colab": {}
      },
      "source": [
        ""
      ],
      "execution_count": null,
      "outputs": []
    },
    {
      "cell_type": "markdown",
      "metadata": {
        "id": "KLPAovPuFA13",
        "colab_type": "text"
      },
      "source": [
        "**Question No:6**"
      ]
    },
    {
      "cell_type": "code",
      "metadata": {
        "id": "uzpm_bWpFDkz",
        "colab_type": "code",
        "colab": {
          "base_uri": "https://localhost:8080/",
          "height": 119
        },
        "outputId": "717c0d27-857b-437c-e97d-c14dafcd9aea"
      },
      "source": [
        "#demonstrate data types in python\n",
        "\n",
        "data1 = 10\n",
        "print(type(data1))\n",
        "\n",
        "data2 = 10.2\n",
        "print(type(data2))\n",
        "\n",
        "data3 = '10.5'\n",
        "print(type(data3))\n",
        "\n",
        "data4 = [1,2,3,4]\n",
        "print(type(data4))\n",
        "\n",
        "data5 = (1,2,3,4)\n",
        "print(type(data5))\n",
        "\n",
        "data = {'date6':10,'data7':'10'}\n",
        "print(type(data))"
      ],
      "execution_count": 25,
      "outputs": [
        {
          "output_type": "stream",
          "text": [
            "<class 'int'>\n",
            "<class 'float'>\n",
            "<class 'str'>\n",
            "<class 'list'>\n",
            "<class 'tuple'>\n",
            "<class 'dict'>\n"
          ],
          "name": "stdout"
        }
      ]
    },
    {
      "cell_type": "code",
      "metadata": {
        "id": "ObL1iWnhFU1w",
        "colab_type": "code",
        "colab": {}
      },
      "source": [
        ""
      ],
      "execution_count": null,
      "outputs": []
    }
  ]
}