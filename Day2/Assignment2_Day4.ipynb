{
  "nbformat": 4,
  "nbformat_minor": 0,
  "metadata": {
    "colab": {
      "name": "Assignment2_Day4.ipynb",
      "provenance": []
    },
    "kernelspec": {
      "name": "python3",
      "display_name": "Python 3"
    }
  },
  "cells": [
    {
      "cell_type": "markdown",
      "metadata": {
        "id": "fVwqgC4mpU7X",
        "colab_type": "text"
      },
      "source": [
        "**Question No:1**\n",
        "\n",
        "  From my observartion we can't do floor division and Modulo operation of complex numbers in python.It gives TypeError"
      ]
    },
    {
      "cell_type": "code",
      "metadata": {
        "id": "5yWjhhNFaoPb",
        "colab_type": "code",
        "colab": {
          "base_uri": "https://localhost:8080/",
          "height": 85
        },
        "outputId": "671400a8-c5b8-432e-c4b5-6a3a5353e9e1"
      },
      "source": [
        "a=1+2j\n",
        "b=2+2j\n",
        "c=a+b\n",
        "print(c)\n",
        "c=a-b\n",
        "print(c)\n",
        "c=a*b\n",
        "print(c)\n",
        "c=a/b\n",
        "print(c)\n",
        "\n"
      ],
      "execution_count": 39,
      "outputs": [
        {
          "output_type": "stream",
          "text": [
            "(3+4j)\n",
            "(-1+0j)\n",
            "(-2+6j)\n",
            "(0.75+0.25j)\n"
          ],
          "name": "stdout"
        }
      ]
    },
    {
      "cell_type": "code",
      "metadata": {
        "id": "0LGQFsDVb4w7",
        "colab_type": "code",
        "colab": {}
      },
      "source": [
        ""
      ],
      "execution_count": null,
      "outputs": []
    },
    {
      "cell_type": "markdown",
      "metadata": {
        "id": "XuQPqmgJ0NJm",
        "colab_type": "text"
      },
      "source": [
        "**Question No:2**"
      ]
    },
    {
      "cell_type": "markdown",
      "metadata": {
        "id": "8Ow0Z318cBKg",
        "colab_type": "text"
      },
      "source": [
        "\n",
        "#**Range function:** \n",
        "##   *range(start,end,step)*\n",
        "  Range function give the series of value from start to end with incrementation factor and the incrementation is based on step parameter value,by default it is 1.if we change the step value the incrementation based on that value\n",
        "\n",
        "\n"
      ]
    },
    {
      "cell_type": "code",
      "metadata": {
        "id": "PrDkx4TecgqR",
        "colab_type": "code",
        "colab": {
          "base_uri": "https://localhost:8080/",
          "height": 34
        },
        "outputId": "4601533f-80ec-4010-f32b-674366f06fb0"
      },
      "source": [
        "#Get the range of value from 1 to 10 with the step of 3\n",
        "i = list(range(1,10,3))\n",
        "i"
      ],
      "execution_count": 36,
      "outputs": [
        {
          "output_type": "execute_result",
          "data": {
            "text/plain": [
              "[1, 4, 7]"
            ]
          },
          "metadata": {
            "tags": []
          },
          "execution_count": 36
        }
      ]
    },
    {
      "cell_type": "code",
      "metadata": {
        "id": "OsX4UFU2r5-1",
        "colab_type": "code",
        "colab": {}
      },
      "source": [
        ""
      ],
      "execution_count": 36,
      "outputs": []
    },
    {
      "cell_type": "markdown",
      "metadata": {
        "id": "ya-3OkzWteUC",
        "colab_type": "text"
      },
      "source": [
        "**Question No :3**"
      ]
    },
    {
      "cell_type": "code",
      "metadata": {
        "id": "Dou8Y3wNtm4g",
        "colab_type": "code",
        "colab": {
          "base_uri": "https://localhost:8080/",
          "height": 68
        },
        "outputId": "c7379532-23eb-488f-cc6c-1553b323fd56"
      },
      "source": [
        "#Get and subtract two value\n",
        "val1 = int(input('Enter 1st value: '))\n",
        "val2 = int(input('Enter 2nd value :'))\n",
        "sub = val1-val2\n",
        "if sub>25:\n",
        "  print(\"The multiplication of two numbers \",val1,\" and \",val2, \" is \" ,val1*val2)\n",
        "else:\n",
        "  print(\"The Division of two numbers \",val1,\" and \",val2,\" is \",val1/val2)"
      ],
      "execution_count": 19,
      "outputs": [
        {
          "output_type": "stream",
          "text": [
            "Enter 1st value: 500\n",
            "Enter 2nd value :2\n",
            "The multiplication of two numbers  500  and  2  is  1000\n"
          ],
          "name": "stdout"
        }
      ]
    },
    {
      "cell_type": "code",
      "metadata": {
        "id": "TvOmK7fRuCJg",
        "colab_type": "code",
        "colab": {
          "base_uri": "https://localhost:8080/",
          "height": 34
        },
        "outputId": "b18d8baa-244a-48c0-f830-d675a91f1820"
      },
      "source": [
        ""
      ],
      "execution_count": 18,
      "outputs": [
        {
          "output_type": "stream",
          "text": [
            "The Division of two numbers  10  and  5  is  2.0\n"
          ],
          "name": "stdout"
        }
      ]
    },
    {
      "cell_type": "code",
      "metadata": {
        "id": "rWhhPsxcuqhP",
        "colab_type": "code",
        "colab": {}
      },
      "source": [
        ""
      ],
      "execution_count": null,
      "outputs": []
    },
    {
      "cell_type": "markdown",
      "metadata": {
        "id": "4YRA5vRwvN6s",
        "colab_type": "text"
      },
      "source": [
        "**Question No:4**"
      ]
    },
    {
      "cell_type": "code",
      "metadata": {
        "id": "1S_mXFC1vSHx",
        "colab_type": "code",
        "colab": {
          "base_uri": "https://localhost:8080/",
          "height": 102
        },
        "outputId": "8f099a93-2714-477e-e065-a074c9cd685c"
      },
      "source": [
        "#Get the list of value from 1 to 11 \n",
        "list_value = list(range(1,11))\n",
        "for x in list_value:\n",
        "  if x%2==0:\n",
        "    print(x**2-2)\n",
        "  else:\n",
        "    pass"
      ],
      "execution_count": 34,
      "outputs": [
        {
          "output_type": "stream",
          "text": [
            "2\n",
            "14\n",
            "34\n",
            "62\n",
            "98\n"
          ],
          "name": "stdout"
        }
      ]
    },
    {
      "cell_type": "code",
      "metadata": {
        "id": "3zOXkv1cv16K",
        "colab_type": "code",
        "colab": {}
      },
      "source": [
        ""
      ],
      "execution_count": null,
      "outputs": []
    },
    {
      "cell_type": "markdown",
      "metadata": {
        "id": "-63yzMlKw4vl",
        "colab_type": "text"
      },
      "source": [
        "**Question No:5**"
      ]
    },
    {
      "cell_type": "code",
      "metadata": {
        "id": "5fW-fz0Fw9fX",
        "colab_type": "code",
        "colab": {
          "base_uri": "https://localhost:8080/",
          "height": 119
        },
        "outputId": "db0a992e-5703-45cb-fab1-6014744064e1"
      },
      "source": [
        "#Get the 10 elements from 11 to 21\n",
        "list_value = list(range(11,21))\n",
        "for x in list_value:\n",
        "  if x/2 > 7:\n",
        "    print(\"value is \",x)\n",
        "  else:\n",
        "    pass"
      ],
      "execution_count": 35,
      "outputs": [
        {
          "output_type": "stream",
          "text": [
            "value is  15\n",
            "value is  16\n",
            "value is  17\n",
            "value is  18\n",
            "value is  19\n",
            "value is  20\n"
          ],
          "name": "stdout"
        }
      ]
    },
    {
      "cell_type": "code",
      "metadata": {
        "id": "k8Ts0bMgy8dE",
        "colab_type": "code",
        "colab": {}
      },
      "source": [
        ""
      ],
      "execution_count": null,
      "outputs": []
    }
  ]
}
