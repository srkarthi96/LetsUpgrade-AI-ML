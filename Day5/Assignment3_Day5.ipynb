{
  "nbformat": 4,
  "nbformat_minor": 0,
  "metadata": {
    "colab": {
      "name": "Assignment3_Day5.ipynb",
      "provenance": [],
      "collapsed_sections": []
    },
    "kernelspec": {
      "name": "python3",
      "display_name": "Python 3"
    }
  },
  "cells": [
    {
      "cell_type": "markdown",
      "metadata": {
        "id": "PlSvI8rPZa5u",
        "colab_type": "text"
      },
      "source": [
        "**Question No:**"
      ]
    },
    {
      "cell_type": "code",
      "metadata": {
        "id": "S-OkLircY6TU",
        "colab_type": "code",
        "colab": {
          "base_uri": "https://localhost:8080/",
          "height": 34
        },
        "outputId": "77fedf44-46f1-4200-9de1-7a1d9baca6a8"
      },
      "source": [
        "#First 20 non even prime natural Number\n",
        "prime_number =[]\n",
        "count = 1\n",
        "i=2\n",
        "while count<=20:\n",
        "  for x in range(2,i):\n",
        "    if i%2==0:\n",
        "      i=i+1\n",
        "    else:\n",
        "      count= count + 1\n",
        "      prime_number.append(i)\n",
        "      i=i+1\n",
        "  else:\n",
        "      count= count + 1\n",
        "      prime_number.append(i)\n",
        "      i=i+1 \n",
        "print(\"First 20 non even prime Natural Number  is \",prime_number)\n",
        "    "
      ],
      "execution_count": 11,
      "outputs": [
        {
          "output_type": "stream",
          "text": [
            "First 20 non even prime Natural Number  is  [2, 3, 4, 5, 7, 8, 9, 11, 13, 15, 16, 17, 19, 21, 23, 25, 27, 29, 31, 32]\n"
          ],
          "name": "stdout"
        }
      ]
    },
    {
      "cell_type": "markdown",
      "metadata": {
        "id": "kyaNIYYtfC9M",
        "colab_type": "text"
      },
      "source": [
        "**Question No:2**"
      ]
    },
    {
      "cell_type": "code",
      "metadata": {
        "id": "WvIzcZDNbsRa",
        "colab_type": "code",
        "colab": {
          "base_uri": "https://localhost:8080/",
          "height": 272
        },
        "outputId": "f79b93b5-86a0-4ab4-b7ea-62bd3988cdbf"
      },
      "source": [
        "#15 string Function\n",
        "string = \"Welcome to lets upgrade\"\n",
        "\n",
        "#capitalize\n",
        "print(\"function 1: \",string.capitalize())\n",
        "\n",
        "#casefold\n",
        "\n",
        "print(\"function 2: \",string.casefold())\n",
        "\n",
        "#check is all lower\n",
        "\n",
        "print(\"function 3: \",string.islower())\n",
        "\n",
        "#check is all upper \n",
        "\n",
        "print(\"function 4: \",string.isupper())\n",
        "\n",
        "#convert into upper case\n",
        "\n",
        "print(\"function 5: \",string.upper())\n",
        "\n",
        "#space\n",
        "\n",
        "print(\"function 6: \",string.isspace())\n",
        "\n",
        "#Find\n",
        "\n",
        "print(\"function 7: \",string.find(\"t\"))\n",
        "\n",
        "#count\n",
        "\n",
        "print(\"function 8: \",string.count(\"e\"))\n",
        "\n",
        "#Title\n",
        "\n",
        "print(\"function 9: \",string.title())\n",
        "\n",
        "#Split\n",
        "\n",
        "print(\"function 10: \",string.split(\" \"))\n",
        "\n",
        "#rfind\n",
        "\n",
        "print(\"function 11: \",string.rfind(\"e\"))\n",
        "\n",
        "#replace \n",
        "\n",
        "print(\"function 12: \",string.replace(\"e\",\"f\"))\n",
        "\n",
        "#isdecimal,\n",
        "val =\"30\"\n",
        "print(\"function 13: \",val.isdecimal())\n",
        "\n",
        "#Join \n",
        "\n",
        "val=[\"sriram\",\"kartheeswaran\"]\n",
        "x=\" \".join(val)\n",
        "print(\"function 14: \",x)\n",
        "\n",
        "#Swapcase\n",
        "\n",
        "val= \"SRIRAM kartheeswaran\"\n",
        "\n",
        "print(\"function 15: \",val.swapcase())\n",
        "\n",
        "\n"
      ],
      "execution_count": 41,
      "outputs": [
        {
          "output_type": "stream",
          "text": [
            "function 1:  Welcome to lets upgrade\n",
            "function 2:  welcome to lets upgrade\n",
            "function 3:  False\n",
            "function 4:  False\n",
            "function 5:  WELCOME TO LETS UPGRADE\n",
            "function 6:  False\n",
            "function 7:  8\n",
            "function 8:  4\n",
            "function 9:  Welcome To Lets Upgrade\n",
            "function 10:  ['Welcome', 'to', 'lets', 'upgrade']\n",
            "function 11:  22\n",
            "function 12:  Wflcomf to lfts upgradf\n",
            "function 13:  True\n",
            "function 14:  sriram kartheeswaran\n",
            "function 15:  sriram KARTHEESWARAN\n"
          ],
          "name": "stdout"
        }
      ]
    },
    {
      "cell_type": "markdown",
      "metadata": {
        "id": "m6l8UvSfrD5f",
        "colab_type": "text"
      },
      "source": [
        "**Question No:3**"
      ]
    },
    {
      "cell_type": "code",
      "metadata": {
        "id": "DlBo3wdOkkxC",
        "colab_type": "code",
        "colab": {
          "base_uri": "https://localhost:8080/",
          "height": 68
        },
        "outputId": "4bbe5ed5-1683-4ed7-ef50-f3d4f6d8a4a3"
      },
      "source": [
        "#check string are palindrome and anagram or not\n",
        "\n",
        "string1= input(\"First string\")\n",
        "string2= input(\"Second string\")\n",
        "def palindrome(x):\n",
        "  return x[::-1]\n",
        "rev_str1= palindrome(string1)\n",
        "rev_str2= palindrome(string2)\n",
        "sorted_str1 = sorted(string1)\n",
        "sorted_str2 = sorted(string2)\n",
        "if string1==rev_str1 or string2==rev_str2:\n",
        "  print(\"It is palindrome\")\n",
        "elif sorted_str1==sorted_str2:\n",
        "  print(\"It  is anagram\")\n",
        "else:\n",
        "  print(\"None is palindrome or Anagram\")\n"
      ],
      "execution_count": 45,
      "outputs": [
        {
          "output_type": "stream",
          "text": [
            "First stringcat\n",
            "Second stringrat\n",
            "None is palindrome or Anagram\n"
          ],
          "name": "stdout"
        }
      ]
    },
    {
      "cell_type": "markdown",
      "metadata": {
        "id": "OxxqWNkHw-jh",
        "colab_type": "text"
      },
      "source": [
        "**Question No:4**"
      ]
    },
    {
      "cell_type": "code",
      "metadata": {
        "id": "rsQCUq4Evp4-",
        "colab_type": "code",
        "colab": {
          "base_uri": "https://localhost:8080/",
          "height": 51
        },
        "outputId": "0b55df14-cd73-4d19-9033-25fd19646550"
      },
      "source": [
        "#Print the string with out special character\n",
        "\n",
        "bad_words =\"`~!@#$%^&*()-_=+[]{}\\|;:<,>.?/ \"\n",
        "\n",
        "user_input= input(\"Enter the string: \")\n",
        "\n",
        "for i in bad_words:\n",
        "  user_input=user_input.replace(i,\"\")\n",
        "\n",
        "print(\"Lower case of converted string\",user_input.lower())\n"
      ],
      "execution_count": 53,
      "outputs": [
        {
          "output_type": "stream",
          "text": [
            "Enter the string: \"Dr. Darshan Ingle @AIML Trainer\",\n",
            "Lower case of converted string \"drdarshaningleaimltrainer\"\n"
          ],
          "name": "stdout"
        }
      ]
    },
    {
      "cell_type": "code",
      "metadata": {
        "id": "Koz1yX8yytW2",
        "colab_type": "code",
        "colab": {}
      },
      "source": [
        ""
      ],
      "execution_count": null,
      "outputs": []
    }
  ]
}
