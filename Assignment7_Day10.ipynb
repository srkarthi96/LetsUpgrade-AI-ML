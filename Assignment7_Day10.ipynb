{
  "nbformat": 4,
  "nbformat_minor": 0,
  "metadata": {
    "colab": {
      "name": "Assignment7_Day10.ipynb",
      "provenance": [],
      "collapsed_sections": []
    },
    "kernelspec": {
      "name": "python3",
      "display_name": "Python 3"
    }
  },
  "cells": [
    {
      "cell_type": "markdown",
      "metadata": {
        "id": "iXkwnxG65RiQ",
        "colab_type": "text"
      },
      "source": [
        "**Question No:1**"
      ]
    },
    {
      "cell_type": "code",
      "metadata": {
        "id": "n1p8Hiua5DTT",
        "colab_type": "code",
        "colab": {
          "base_uri": "https://localhost:8080/",
          "height": 85
        },
        "outputId": "e6d20d6a-ade8-4655-bec8-b5b3aaea3aa3"
      },
      "source": [
        "#Comparison of two arrays\n",
        "\n",
        "import numpy as np\n",
        "\n",
        "x = np.array([1,5,2,4,3])\n",
        "y= np.array([1,2,3,4,5])\n",
        "\n",
        "print(np.greater_equal(x,y))\n",
        "print(np.greater(x,y))\n",
        "print(np.less_equal(x,y))\n",
        "print(np.less(x,y))\n",
        "\n"
      ],
      "execution_count": 1,
      "outputs": [
        {
          "output_type": "stream",
          "text": [
            "[ True  True False  True False]\n",
            "[False  True False False False]\n",
            "[ True False  True  True  True]\n",
            "[False False  True False  True]\n"
          ],
          "name": "stdout"
        }
      ]
    },
    {
      "cell_type": "markdown",
      "metadata": {
        "id": "aj0eohqOAfCX",
        "colab_type": "text"
      },
      "source": [
        "**Question No:2**"
      ]
    },
    {
      "cell_type": "code",
      "metadata": {
        "id": "448lZj6UAd6I",
        "colab_type": "code",
        "colab": {
          "base_uri": "https://localhost:8080/",
          "height": 68
        },
        "outputId": "45ff6bbb-34e4-4b52-d141-dd14211389bd"
      },
      "source": [
        "#Creating an array of 10 zeros,10 ones, 10 fives\n",
        "\n",
        "x = np.zeros(10,dtype='int8')\n",
        "y = np.ones(10,dtype='int8')\n",
        "z = np.full((1,10),5)\n",
        "print(x)\n",
        "print(y)\n",
        "print(z)"
      ],
      "execution_count": 15,
      "outputs": [
        {
          "output_type": "stream",
          "text": [
            "[0 0 0 0 0 0 0 0 0 0]\n",
            "[1 1 1 1 1 1 1 1 1 1]\n",
            "[[5 5 5 5 5 5 5 5 5 5]]\n"
          ],
          "name": "stdout"
        }
      ]
    },
    {
      "cell_type": "markdown",
      "metadata": {
        "id": "3zBonI9aHP3V",
        "colab_type": "text"
      },
      "source": [
        "**Question No:3**"
      ]
    },
    {
      "cell_type": "code",
      "metadata": {
        "id": "eeZiCpmt5hkg",
        "colab_type": "code",
        "colab": {
          "base_uri": "https://localhost:8080/",
          "height": 68
        },
        "outputId": "b1b535f6-fc5b-4817-c546-2a3c584ee03f"
      },
      "source": [
        "#sum of each value,each column,each rows in given array\n",
        "\n",
        "array = np.array([[1,2,3],[1,2,3],[1,2,3]])\n",
        "\n",
        "print(\"Sum of array is \",array.sum())\n",
        "\n",
        "print(\"Sum of each rows in array is \",array.sum(axis=1))\n",
        "\n",
        "print(\"Sum of each columns in array is \",array.sum(axis=0))\n"
      ],
      "execution_count": 24,
      "outputs": [
        {
          "output_type": "stream",
          "text": [
            "Sum of array is  18\n",
            "Sum of each rows in array is  [6 6 6]\n",
            "Sum of each columns in array is  [3 6 9]\n"
          ],
          "name": "stdout"
        }
      ]
    },
    {
      "cell_type": "markdown",
      "metadata": {
        "id": "eP0JJQAEKYlk",
        "colab_type": "text"
      },
      "source": [
        "**Question No:4**"
      ]
    },
    {
      "cell_type": "code",
      "metadata": {
        "id": "1mZBrg4EGkC1",
        "colab_type": "code",
        "colab": {
          "base_uri": "https://localhost:8080/",
          "height": 221
        },
        "outputId": "487aafc2-07bb-4c2f-a409-5773f20d826b"
      },
      "source": [
        "#arithmetic operation element wise\n",
        "\n",
        "x = np.array([[1,2,3,4,5],[1,2,3,4,5],[1,2,3,4,5]])\n",
        "y = np.array([[1,2,3,4,5],[1,2,3,4,5],[1,2,3,4,5]])\n",
        "\n",
        "#Addition\n",
        "print(np.add(x,y))\n",
        "\n",
        "#Subtraction\n",
        "\n",
        "print(np.subtract(x,y))\n",
        "\n",
        "#Multiplication\n",
        "\n",
        "print(np.multiply(x,y))\n",
        "\n",
        "#Division\n",
        "\n",
        "print(np.divide(x,y))"
      ],
      "execution_count": 28,
      "outputs": [
        {
          "output_type": "stream",
          "text": [
            "[[ 2  4  6  8 10]\n",
            " [ 2  4  6  8 10]\n",
            " [ 2  4  6  8 10]]\n",
            "[[0 0 0 0 0]\n",
            " [0 0 0 0 0]\n",
            " [0 0 0 0 0]]\n",
            "[[ 1  4  9 16 25]\n",
            " [ 1  4  9 16 25]\n",
            " [ 1  4  9 16 25]]\n",
            "[[1. 1. 1. 1. 1.]\n",
            " [1. 1. 1. 1. 1.]\n",
            " [1. 1. 1. 1. 1.]]\n"
          ],
          "name": "stdout"
        }
      ]
    },
    {
      "cell_type": "markdown",
      "metadata": {
        "id": "2zCxyTSSMEc9",
        "colab_type": "text"
      },
      "source": [
        "**Question No:5**"
      ]
    },
    {
      "cell_type": "code",
      "metadata": {
        "id": "rGZN6vLVLQW1",
        "colab_type": "code",
        "colab": {
          "base_uri": "https://localhost:8080/",
          "height": 136
        },
        "outputId": "2acfa502-1f89-4ae9-a47d-75072966d3a4"
      },
      "source": [
        "#trigonometric sine, cosine and tangent array of angles given in degree\n",
        "\n",
        "angles = np.array([0,30,45,60,90])\n",
        "\n",
        "print(angles)\n",
        "\n",
        "print()\n",
        "\n",
        "print(\"sine values of given angles is \",np.sin(angles * np.pi / 180.))\n",
        "\n",
        "print(\"cosine values of given angles is \",np.cos(angles * np.pi / 180.))\n",
        "\n",
        "print(\"tangent values of given angles is \",np.tan(angles * np.pi / 180.))\n",
        "\n"
      ],
      "execution_count": 47,
      "outputs": [
        {
          "output_type": "stream",
          "text": [
            "[ 0 30 45 60 90]\n",
            "\n",
            "sine values of given angles is  [0.         0.5        0.70710678 0.8660254  1.        ]\n",
            "cosine values of given angles is  [1.00000000e+00 8.66025404e-01 7.07106781e-01 5.00000000e-01\n",
            " 6.12323400e-17]\n",
            "tangent values of given angles is  [0.00000000e+00 5.77350269e-01 1.00000000e+00 1.73205081e+00\n",
            " 1.63312394e+16]\n"
          ],
          "name": "stdout"
        }
      ]
    },
    {
      "cell_type": "code",
      "metadata": {
        "id": "CrEf3dMfLcf4",
        "colab_type": "code",
        "colab": {}
      },
      "source": [
        ""
      ],
      "execution_count": null,
      "outputs": []
    }
  ]
}