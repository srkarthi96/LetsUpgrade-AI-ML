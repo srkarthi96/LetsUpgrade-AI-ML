{
  "nbformat": 4,
  "nbformat_minor": 0,
  "metadata": {
    "colab": {
      "name": "Assignment7_Day10.ipynb",
      "provenance": [],
      "collapsed_sections": []
    },
    "kernelspec": {
      "name": "python3",
      "display_name": "Python 3"
    }
  },
  "cells": [
    {
      "cell_type": "markdown",
      "metadata": {
        "id": "iXkwnxG65RiQ",
        "colab_type": "text"
      },
      "source": [
        "**Question No:1**"
      ]
    },
    {
      "cell_type": "code",
      "metadata": {
        "id": "n1p8Hiua5DTT",
        "colab_type": "code",
        "colab": {
          "base_uri": "https://localhost:8080/",
          "height": 85
        },
        "outputId": "9a3506e7-d838-4554-8111-21e89bf3ff82"
      },
      "source": [
        "#Comparison of two arrays\n",
        "\n",
        "import numpy as np\n",
        "\n",
        "x = np.array([1,5,2,4,3])\n",
        "y= np.array([1,2,3,4,5])\n",
        "\n",
        "print(np.greater_equal(x,y))\n",
        "print(np.greater(x,y))\n",
        "print(np.less_equal(x,y))\n",
        "print(np.less(x,y))\n",
        "\n"
      ],
      "execution_count": 1,
      "outputs": [
        {
          "output_type": "stream",
          "text": [
            "[ True  True False  True False]\n",
            "[False  True False False False]\n",
            "[ True False  True  True  True]\n",
            "[False False  True False  True]\n"
          ],
          "name": "stdout"
        }
      ]
    },
    {
      "cell_type": "markdown",
      "metadata": {
        "id": "aj0eohqOAfCX",
        "colab_type": "text"
      },
      "source": [
        "**Question No:2**"
      ]
    },
    {
      "cell_type": "code",
      "metadata": {
        "id": "448lZj6UAd6I",
        "colab_type": "code",
        "colab": {
          "base_uri": "https://localhost:8080/",
          "height": 68
        },
        "outputId": "75865291-bbfb-465d-99f1-437532bca8e4"
      },
      "source": [
        "#Creating an array of 10 zeros,10 ones, 10 fives\n",
        "\n",
        "x = np.zeros(10,dtype='int8')\n",
        "y = np.ones(10,dtype='int8')\n",
        "z = np.full((1,10),5)\n",
        "print(x)\n",
        "print(y)\n",
        "print(z)"
      ],
      "execution_count": 2,
      "outputs": [
        {
          "output_type": "stream",
          "text": [
            "[0 0 0 0 0 0 0 0 0 0]\n",
            "[1 1 1 1 1 1 1 1 1 1]\n",
            "[[5 5 5 5 5 5 5 5 5 5]]\n"
          ],
          "name": "stdout"
        }
      ]
    },
    {
      "cell_type": "markdown",
      "metadata": {
        "id": "3zBonI9aHP3V",
        "colab_type": "text"
      },
      "source": [
        "**Question No:3**"
      ]
    },
    {
      "cell_type": "code",
      "metadata": {
        "id": "eeZiCpmt5hkg",
        "colab_type": "code",
        "colab": {
          "base_uri": "https://localhost:8080/",
          "height": 68
        },
        "outputId": "d2241431-85ca-405b-bb54-a78698301ad7"
      },
      "source": [
        "#sum of each value,each column,each rows in given array\n",
        "\n",
        "array = np.array([[1,2,3],[1,2,3],[1,2,3]])\n",
        "\n",
        "print(\"Sum of array is \",array.sum())\n",
        "\n",
        "print(\"Sum of each rows in array is \",array.sum(axis=1))\n",
        "\n",
        "print(\"Sum of each columns in array is \",array.sum(axis=0))\n"
      ],
      "execution_count": 3,
      "outputs": [
        {
          "output_type": "stream",
          "text": [
            "Sum of array is  18\n",
            "Sum of each rows in array is  [6 6 6]\n",
            "Sum of each columns in array is  [3 6 9]\n"
          ],
          "name": "stdout"
        }
      ]
    },
    {
      "cell_type": "markdown",
      "metadata": {
        "id": "eP0JJQAEKYlk",
        "colab_type": "text"
      },
      "source": [
        "**Question No:4**"
      ]
    },
    {
      "cell_type": "code",
      "metadata": {
        "id": "1mZBrg4EGkC1",
        "colab_type": "code",
        "colab": {
          "base_uri": "https://localhost:8080/",
          "height": 221
        },
        "outputId": "2133016d-bbd7-4741-b918-55ab4234f463"
      },
      "source": [
        "#arithmetic operation element wise\n",
        "\n",
        "x = np.array([[1,2,3,4,5],[1,2,3,4,5],[1,2,3,4,5]])\n",
        "y = np.array([[1,2,3,4,5],[1,2,3,4,5],[1,2,3,4,5]])\n",
        "\n",
        "#Addition\n",
        "print(np.add(x,y))\n",
        "\n",
        "#Subtraction\n",
        "\n",
        "print(np.subtract(x,y))\n",
        "\n",
        "#Multiplication\n",
        "\n",
        "print(np.multiply(x,y))\n",
        "\n",
        "#Division\n",
        "\n",
        "print(np.divide(x,y))"
      ],
      "execution_count": 4,
      "outputs": [
        {
          "output_type": "stream",
          "text": [
            "[[ 2  4  6  8 10]\n",
            " [ 2  4  6  8 10]\n",
            " [ 2  4  6  8 10]]\n",
            "[[0 0 0 0 0]\n",
            " [0 0 0 0 0]\n",
            " [0 0 0 0 0]]\n",
            "[[ 1  4  9 16 25]\n",
            " [ 1  4  9 16 25]\n",
            " [ 1  4  9 16 25]]\n",
            "[[1. 1. 1. 1. 1.]\n",
            " [1. 1. 1. 1. 1.]\n",
            " [1. 1. 1. 1. 1.]]\n"
          ],
          "name": "stdout"
        }
      ]
    },
    {
      "cell_type": "markdown",
      "metadata": {
        "id": "2zCxyTSSMEc9",
        "colab_type": "text"
      },
      "source": [
        "**Question No:5**"
      ]
    },
    {
      "cell_type": "code",
      "metadata": {
        "id": "rGZN6vLVLQW1",
        "colab_type": "code",
        "colab": {
          "base_uri": "https://localhost:8080/",
          "height": 136
        },
        "outputId": "01cda0a2-8048-4a2d-d63d-270c7c8e573a"
      },
      "source": [
        "#trigonometric sine, cosine and tangent array of angles given in degree\n",
        "\n",
        "angles = np.array([0,30,45,60,90])\n",
        "\n",
        "print(angles)\n",
        "\n",
        "print()\n",
        "\n",
        "print(\"sine values of given angles is \",np.sin(angles * np.pi / 180.))\n",
        "\n",
        "print(\"cosine values of given angles is \",np.cos(angles * np.pi / 180.))\n",
        "\n",
        "print(\"tangent values of given angles is \",np.tan(angles * np.pi / 180.))\n",
        "\n"
      ],
      "execution_count": 5,
      "outputs": [
        {
          "output_type": "stream",
          "text": [
            "[ 0 30 45 60 90]\n",
            "\n",
            "sine values of given angles is  [0.         0.5        0.70710678 0.8660254  1.        ]\n",
            "cosine values of given angles is  [1.00000000e+00 8.66025404e-01 7.07106781e-01 5.00000000e-01\n",
            " 6.12323400e-17]\n",
            "tangent values of given angles is  [0.00000000e+00 5.77350269e-01 1.00000000e+00 1.73205081e+00\n",
            " 1.63312394e+16]\n"
          ],
          "name": "stdout"
        }
      ]
    },
    {
      "cell_type": "markdown",
      "metadata": {
        "id": "EMYB-JUEv8ns",
        "colab_type": "text"
      },
      "source": [
        "**Question No:6**"
      ]
    },
    {
      "cell_type": "code",
      "metadata": {
        "id": "CrEf3dMfLcf4",
        "colab_type": "code",
        "colab": {
          "base_uri": "https://localhost:8080/",
          "height": 173
        },
        "outputId": "40af8fa5-ebc3-4579-f7fd-eb72733bc1dc"
      },
      "source": [
        "#create and display dataframe from a specified dictionary with index labels\n",
        "\n",
        "import pandas as pd\n",
        "import numpy as np\n",
        "\n",
        "dict1 = {'name':[\"sriram\", \"abirami\", \"suganesh\", \"jose\"], \n",
        "        'degree': [\"BE\", \"BE\", \"B.SC\", np.nan], \n",
        "        'score':[95, 90, 80, 65]} \n",
        "\n",
        "df1 = pd.DataFrame(dict1,index=['one','two','three','four'])\n",
        "\n",
        "df1"
      ],
      "execution_count": 6,
      "outputs": [
        {
          "output_type": "execute_result",
          "data": {
            "text/html": [
              "<div>\n",
              "<style scoped>\n",
              "    .dataframe tbody tr th:only-of-type {\n",
              "        vertical-align: middle;\n",
              "    }\n",
              "\n",
              "    .dataframe tbody tr th {\n",
              "        vertical-align: top;\n",
              "    }\n",
              "\n",
              "    .dataframe thead th {\n",
              "        text-align: right;\n",
              "    }\n",
              "</style>\n",
              "<table border=\"1\" class=\"dataframe\">\n",
              "  <thead>\n",
              "    <tr style=\"text-align: right;\">\n",
              "      <th></th>\n",
              "      <th>name</th>\n",
              "      <th>degree</th>\n",
              "      <th>score</th>\n",
              "    </tr>\n",
              "  </thead>\n",
              "  <tbody>\n",
              "    <tr>\n",
              "      <th>one</th>\n",
              "      <td>sriram</td>\n",
              "      <td>BE</td>\n",
              "      <td>95</td>\n",
              "    </tr>\n",
              "    <tr>\n",
              "      <th>two</th>\n",
              "      <td>abirami</td>\n",
              "      <td>BE</td>\n",
              "      <td>90</td>\n",
              "    </tr>\n",
              "    <tr>\n",
              "      <th>three</th>\n",
              "      <td>suganesh</td>\n",
              "      <td>B.SC</td>\n",
              "      <td>80</td>\n",
              "    </tr>\n",
              "    <tr>\n",
              "      <th>four</th>\n",
              "      <td>jose</td>\n",
              "      <td>NaN</td>\n",
              "      <td>65</td>\n",
              "    </tr>\n",
              "  </tbody>\n",
              "</table>\n",
              "</div>"
            ],
            "text/plain": [
              "           name degree  score\n",
              "one      sriram     BE     95\n",
              "two     abirami     BE     90\n",
              "three  suganesh   B.SC     80\n",
              "four       jose    NaN     65"
            ]
          },
          "metadata": {
            "tags": []
          },
          "execution_count": 6
        }
      ]
    },
    {
      "cell_type": "markdown",
      "metadata": {
        "id": "2JlXnikgwTwh",
        "colab_type": "text"
      },
      "source": [
        "**Question No:7**"
      ]
    },
    {
      "cell_type": "code",
      "metadata": {
        "id": "C6zI67WiwXE8",
        "colab_type": "code",
        "colab": {
          "base_uri": "https://localhost:8080/",
          "height": 173
        },
        "outputId": "e7fdf4d3-db67-48bb-fd74-3a817ace972e"
      },
      "source": [
        "#select name and score column in above dataframe\n",
        "\n",
        "df1[['name','score']]"
      ],
      "execution_count": 7,
      "outputs": [
        {
          "output_type": "execute_result",
          "data": {
            "text/html": [
              "<div>\n",
              "<style scoped>\n",
              "    .dataframe tbody tr th:only-of-type {\n",
              "        vertical-align: middle;\n",
              "    }\n",
              "\n",
              "    .dataframe tbody tr th {\n",
              "        vertical-align: top;\n",
              "    }\n",
              "\n",
              "    .dataframe thead th {\n",
              "        text-align: right;\n",
              "    }\n",
              "</style>\n",
              "<table border=\"1\" class=\"dataframe\">\n",
              "  <thead>\n",
              "    <tr style=\"text-align: right;\">\n",
              "      <th></th>\n",
              "      <th>name</th>\n",
              "      <th>score</th>\n",
              "    </tr>\n",
              "  </thead>\n",
              "  <tbody>\n",
              "    <tr>\n",
              "      <th>one</th>\n",
              "      <td>sriram</td>\n",
              "      <td>95</td>\n",
              "    </tr>\n",
              "    <tr>\n",
              "      <th>two</th>\n",
              "      <td>abirami</td>\n",
              "      <td>90</td>\n",
              "    </tr>\n",
              "    <tr>\n",
              "      <th>three</th>\n",
              "      <td>suganesh</td>\n",
              "      <td>80</td>\n",
              "    </tr>\n",
              "    <tr>\n",
              "      <th>four</th>\n",
              "      <td>jose</td>\n",
              "      <td>65</td>\n",
              "    </tr>\n",
              "  </tbody>\n",
              "</table>\n",
              "</div>"
            ],
            "text/plain": [
              "           name  score\n",
              "one      sriram     95\n",
              "two     abirami     90\n",
              "three  suganesh     80\n",
              "four       jose     65"
            ]
          },
          "metadata": {
            "tags": []
          },
          "execution_count": 7
        }
      ]
    },
    {
      "cell_type": "markdown",
      "metadata": {
        "id": "GD8YEncgwcNf",
        "colab_type": "text"
      },
      "source": [
        "**Question No:8**"
      ]
    },
    {
      "cell_type": "code",
      "metadata": {
        "id": "4slGSqm6we_W",
        "colab_type": "code",
        "colab": {
          "base_uri": "https://localhost:8080/",
          "height": 204
        },
        "outputId": "b4bed8bf-c4bf-420d-cd96-04557bcbef13"
      },
      "source": [
        "#Join two Dataframe\n",
        "\n",
        "colg_details = {'name':[\"sriram\", \"abirami\", \"suganesh\", \"jose\",\"sushma\"],\n",
        "      'colg_name':[\"GCE\",\"GCE\",np.nan,\"GMC\",12]}\n",
        "\n",
        "index = ['a','b','c','d','e']\n",
        "\n",
        "df2 = pd.DataFrame(colg_details,index)\n",
        "\n",
        "df2"
      ],
      "execution_count": 8,
      "outputs": [
        {
          "output_type": "execute_result",
          "data": {
            "text/html": [
              "<div>\n",
              "<style scoped>\n",
              "    .dataframe tbody tr th:only-of-type {\n",
              "        vertical-align: middle;\n",
              "    }\n",
              "\n",
              "    .dataframe tbody tr th {\n",
              "        vertical-align: top;\n",
              "    }\n",
              "\n",
              "    .dataframe thead th {\n",
              "        text-align: right;\n",
              "    }\n",
              "</style>\n",
              "<table border=\"1\" class=\"dataframe\">\n",
              "  <thead>\n",
              "    <tr style=\"text-align: right;\">\n",
              "      <th></th>\n",
              "      <th>name</th>\n",
              "      <th>colg_name</th>\n",
              "    </tr>\n",
              "  </thead>\n",
              "  <tbody>\n",
              "    <tr>\n",
              "      <th>a</th>\n",
              "      <td>sriram</td>\n",
              "      <td>GCE</td>\n",
              "    </tr>\n",
              "    <tr>\n",
              "      <th>b</th>\n",
              "      <td>abirami</td>\n",
              "      <td>GCE</td>\n",
              "    </tr>\n",
              "    <tr>\n",
              "      <th>c</th>\n",
              "      <td>suganesh</td>\n",
              "      <td>NaN</td>\n",
              "    </tr>\n",
              "    <tr>\n",
              "      <th>d</th>\n",
              "      <td>jose</td>\n",
              "      <td>GMC</td>\n",
              "    </tr>\n",
              "    <tr>\n",
              "      <th>e</th>\n",
              "      <td>sushma</td>\n",
              "      <td>12</td>\n",
              "    </tr>\n",
              "  </tbody>\n",
              "</table>\n",
              "</div>"
            ],
            "text/plain": [
              "       name colg_name\n",
              "a    sriram       GCE\n",
              "b   abirami       GCE\n",
              "c  suganesh       NaN\n",
              "d      jose       GMC\n",
              "e    sushma        12"
            ]
          },
          "metadata": {
            "tags": []
          },
          "execution_count": 8
        }
      ]
    },
    {
      "cell_type": "code",
      "metadata": {
        "id": "2EQR0louwliH",
        "colab_type": "code",
        "colab": {}
      },
      "source": [
        "merged_details = df1.merge(df2,on='name',how='inner')"
      ],
      "execution_count": 9,
      "outputs": []
    },
    {
      "cell_type": "code",
      "metadata": {
        "id": "Z2MYHitZwqiA",
        "colab_type": "code",
        "colab": {
          "base_uri": "https://localhost:8080/",
          "height": 173
        },
        "outputId": "4fa16f28-da22-4540-e631-0cb8567df1ac"
      },
      "source": [
        "merged_details"
      ],
      "execution_count": 10,
      "outputs": [
        {
          "output_type": "execute_result",
          "data": {
            "text/html": [
              "<div>\n",
              "<style scoped>\n",
              "    .dataframe tbody tr th:only-of-type {\n",
              "        vertical-align: middle;\n",
              "    }\n",
              "\n",
              "    .dataframe tbody tr th {\n",
              "        vertical-align: top;\n",
              "    }\n",
              "\n",
              "    .dataframe thead th {\n",
              "        text-align: right;\n",
              "    }\n",
              "</style>\n",
              "<table border=\"1\" class=\"dataframe\">\n",
              "  <thead>\n",
              "    <tr style=\"text-align: right;\">\n",
              "      <th></th>\n",
              "      <th>name</th>\n",
              "      <th>degree</th>\n",
              "      <th>score</th>\n",
              "      <th>colg_name</th>\n",
              "    </tr>\n",
              "  </thead>\n",
              "  <tbody>\n",
              "    <tr>\n",
              "      <th>0</th>\n",
              "      <td>sriram</td>\n",
              "      <td>BE</td>\n",
              "      <td>95</td>\n",
              "      <td>GCE</td>\n",
              "    </tr>\n",
              "    <tr>\n",
              "      <th>1</th>\n",
              "      <td>abirami</td>\n",
              "      <td>BE</td>\n",
              "      <td>90</td>\n",
              "      <td>GCE</td>\n",
              "    </tr>\n",
              "    <tr>\n",
              "      <th>2</th>\n",
              "      <td>suganesh</td>\n",
              "      <td>B.SC</td>\n",
              "      <td>80</td>\n",
              "      <td>NaN</td>\n",
              "    </tr>\n",
              "    <tr>\n",
              "      <th>3</th>\n",
              "      <td>jose</td>\n",
              "      <td>NaN</td>\n",
              "      <td>65</td>\n",
              "      <td>GMC</td>\n",
              "    </tr>\n",
              "  </tbody>\n",
              "</table>\n",
              "</div>"
            ],
            "text/plain": [
              "       name degree  score colg_name\n",
              "0    sriram     BE     95       GCE\n",
              "1   abirami     BE     90       GCE\n",
              "2  suganesh   B.SC     80       NaN\n",
              "3      jose    NaN     65       GMC"
            ]
          },
          "metadata": {
            "tags": []
          },
          "execution_count": 10
        }
      ]
    },
    {
      "cell_type": "markdown",
      "metadata": {
        "id": "sDA9U_Mjwuqt",
        "colab_type": "text"
      },
      "source": [
        "**Question No:9**"
      ]
    },
    {
      "cell_type": "code",
      "metadata": {
        "id": "bieu6W1NwzTd",
        "colab_type": "code",
        "colab": {
          "base_uri": "https://localhost:8080/",
          "height": 102
        },
        "outputId": "5a5dfc0d-7ca3-4728-c8d2-a47ac7e3da00"
      },
      "source": [
        "#detect missing in dataframe\n",
        "\n",
        "merged_details.isnull().any()"
      ],
      "execution_count": 11,
      "outputs": [
        {
          "output_type": "execute_result",
          "data": {
            "text/plain": [
              "name         False\n",
              "degree        True\n",
              "score        False\n",
              "colg_name     True\n",
              "dtype: bool"
            ]
          },
          "metadata": {
            "tags": []
          },
          "execution_count": 11
        }
      ]
    },
    {
      "cell_type": "markdown",
      "metadata": {
        "id": "f9wGrOG-w2-w",
        "colab_type": "text"
      },
      "source": [
        "**Question No:10**"
      ]
    },
    {
      "cell_type": "code",
      "metadata": {
        "id": "K1Z16Jy7w-jq",
        "colab_type": "code",
        "colab": {
          "base_uri": "https://localhost:8080/",
          "height": 119
        },
        "outputId": "b48d0c7e-3c1a-4421-8949-3899efc749fa"
      },
      "source": [
        "#create and display a one-dimensional array-like object containing an array of data\n",
        "\n",
        "ser1 = pd.Series([\"sriram\",23,[93,90,89,98,93],450,\"muhavooor\"],index=[\"name\",\"age\",\"marks\",\"score\",\"address\"])\n",
        "\n",
        "ser1"
      ],
      "execution_count": 12,
      "outputs": [
        {
          "output_type": "execute_result",
          "data": {
            "text/plain": [
              "name                     sriram\n",
              "age                          23\n",
              "marks      [93, 90, 89, 98, 93]\n",
              "score                       450\n",
              "address               muhavooor\n",
              "dtype: object"
            ]
          },
          "metadata": {
            "tags": []
          },
          "execution_count": 12
        }
      ]
    }
  ]
}